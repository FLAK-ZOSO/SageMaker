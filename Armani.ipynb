{
 "cells": [
  {
   "cell_type": "markdown",
   "id": "1dea5370",
   "metadata": {},
   "source": [
    "# Armani SageMaker instance "
   ]
  },
  {
   "cell_type": "code",
   "execution_count": 1,
   "id": "a304c430",
   "metadata": {},
   "outputs": [
    {
     "name": "stdout",
     "output_type": "stream",
     "text": [
      "Success - the MySageMakerInstance is in the eu-north-1 region. You will use the 669576153137.dkr.ecr.eu-north-1.amazonaws.com/xgboost:latest container for your SageMaker endpoint.\n"
     ]
    }
   ],
   "source": [
    "# import libraries\n",
    "import boto3, re, sys, math, json, os, sagemaker, urllib.request\n",
    "from sagemaker import get_execution_role\n",
    "import numpy as np\n",
    "import pandas as pd\n",
    "import matplotlib.pyplot as plt\n",
    "from IPython.display import Image\n",
    "from IPython.display import display\n",
    "from time import gmtime, strftime\n",
    "# from sagemaker.predictor import csv_serializer\n",
    "\n",
    "# Define IAM role\n",
    "role = get_execution_role()\n",
    "prefix = 'sagemaker/DEMO-xgboost-dm'\n",
    "my_region = boto3.session.Session().region_name # set the region of the instance\n",
    "\n",
    "# this line automatically looks for the XGBoost image URI and builds an XGBoost container.\n",
    "xgboost_container = sagemaker.image_uris.retrieve(\"xgboost\", my_region, \"latest\")\n",
    "\n",
    "print(\"Success - the MySageMakerInstance is in the \" + my_region + \" region. You will use the \" + xgboost_container + \" container for your SageMaker endpoint.\")"
   ]
  },
  {
   "cell_type": "code",
   "execution_count": 2,
   "id": "713b1c12",
   "metadata": {},
   "outputs": [
    {
     "name": "stdout",
     "output_type": "stream",
     "text": [
      "S3 error:  An error occurred (BucketAlreadyOwnedByYou) when calling the CreateBucket operation: Your previous request to create the named bucket succeeded and you already own it.\n"
     ]
    }
   ],
   "source": [
    "bucket_name = 'cestino-s3'\n",
    "s3 = boto3.resource('s3')\n",
    "try:\n",
    "    if  my_region == 'us-east-1':\n",
    "      s3.create_bucket(Bucket=bucket_name)\n",
    "    else: \n",
    "      s3.create_bucket(Bucket=bucket_name, CreateBucketConfiguration={ 'LocationConstraint': my_region })\n",
    "    print('S3 bucket created successfully')\n",
    "except Exception as e:\n",
    "    print('S3 error: ',e)"
   ]
  },
  {
   "cell_type": "markdown",
   "id": "a1443540",
   "metadata": {},
   "source": [
    "The part until now is equal to the [tutorial](https://aws.amazon.com/it/getting-started/hands-on/build-train-deploy-machine-learning-model-sagemaker/)."
   ]
  },
  {
   "cell_type": "code",
   "execution_count": 3,
   "id": "17e5b59c",
   "metadata": {},
   "outputs": [
    {
     "name": "stdout",
     "output_type": "stream",
     "text": [
      "Success: Data loaded into dataframe.\n"
     ]
    }
   ],
   "source": [
    "try:\n",
    "  urllib.request.urlretrieve(\"https://leonardo-michelazzo.github.io/LLama-AI/categorizzatore/Armani.csv\", \"./products.csv\")\n",
    "  urllib.request.urlretrieve(\"https://leonardo-michelazzo.github.io/LLama-AI/categorizzatore/Armani-train.csv\", \"./train.csv\")\n",
    "except Exception as e:\n",
    "  print('Data load error: ',e)\n",
    "\n",
    "try:\n",
    "  model_data = pd.read_csv('./products.csv', header=None, index_col=False) # Changed this\n",
    "  train_data = pd.read_csv('./train.csv', header=None, index_col=False) # Added this\n",
    "  print('Success: Data loaded into dataframe.')\n",
    "except Exception as e:\n",
    "    print('Data load error: ',e)"
   ]
  },
  {
   "cell_type": "markdown",
   "id": "910fc2eb",
   "metadata": {},
   "source": [
    "Now that we have loaded into model_data the CSV..."
   ]
  },
  {
   "cell_type": "code",
   "execution_count": 4,
   "id": "c09065c8",
   "metadata": {},
   "outputs": [
    {
     "name": "stdout",
     "output_type": "stream",
     "text": [
      "    0  1   2   3  4   5   6  7\n",
      "0   0  0   0   0  0   0   0  0\n",
      "1   0  0   0   0  0   3  43  3\n",
      "2   0  1   1   0  0   3  44  1\n",
      "3   0  1   2   1  0   3  42  3\n",
      "4   0  7   3   2  0   0  38  1\n",
      "5   0  3   4   3  1   4  43  1\n",
      "6   0  0   2   1  0   3  43  5\n",
      "7   0  6  14   2  0   0  38  1\n",
      "8   0  6   4   4  1   4  38  1\n",
      "9   0  6   4   5  2   7  38  1\n",
      "10  0  6   4  13  0   0  38  1\n",
      "11  0  0   8   6  1   1  43  5\n",
      "12  0  1   8   7  1   8  46  1\n",
      "13  0  7   4   2  1   0  39  1\n",
      "14  0  3   5  12  1   2  41  6\n",
      "15  0  7   9   2  1   0  39  1\n",
      "16  0  7   9   2  1   6  38  1\n",
      "17  0  3   0   8  1   5  43  1\n",
      "18  0  6   6   8  1   5  39  1\n",
      "19  0  5   0   9  0   0  43  0\n",
      "20  0  1  10   9  0   0  43  1\n",
      "21  0  0   0   0  0   0  45  3\n",
      "22  1  0   3   9  0   0  51  3\n",
      "23  1  1   3   9  0   0  51  1\n",
      "24  1  0   0   9  0   0  50  3\n",
      "25  1  1   0   9  0   0  48  1\n",
      "26  1  0   8   8  0   0  52  4\n",
      "27  1  1   8   8  0   0  52  2\n",
      "28  1  2   0   9  0   0  41  1\n",
      "29  1  2   0   1  0   0  41  2\n",
      "30  1  2   2   1  0   0  40  1\n",
      "31  1  1   7   7  0   0  51  1\n",
      "32  1  0   2  10  0   0  51  3\n",
      "33  1  1   2  10  0   0  51  2\n",
      "34  1  0   5  11  0   0  51  3\n",
      "35  1  2   5  11  0   0  52  1\n",
      "36  1  2   0   8  0   0  40  1\n",
      "37  1  1   5  11  0   0  53  1\n",
      "38  1  0   8  11  0   0  50  5\n",
      "39  1  1   8  11  0   0  50  2\n",
      "40  1  1   3   9  0   0  51  1\n",
      "41  1  3   4   7  0   0  52  4\n",
      "42  1  2   3   9  1   3  40  0\n",
      "43  1  3   4   7  1   4  51  3\n",
      "44  1  0   7   8  1   3  49  4\n",
      "45  1  0   2   0  1   9  51  4\n",
      "46  1  4   0   8  0   0  51  3\n",
      "47  1  1   0   8  0   0  51  1\n",
      "48  1  2   2  10  0   0  51  3\n",
      "49  1  0   3   1  1  10  52  3\n",
      "50  1  5   0   9  0   0  53  0\n",
      "<class 'pandas.core.frame.DataFrame'>\n"
     ]
    }
   ],
   "source": [
    "print(model_data) # ...and after a bit of debugging...\n",
    "print(type(model_data)) # ...and compensation of the absurd leak of documentation..."
   ]
  },
  {
   "cell_type": "markdown",
   "id": "d717b6f3",
   "metadata": {},
   "source": [
    "...we start splitting data into the data for training (in this case 70% of the total) an data for testing (the rest)."
   ]
  },
  {
   "cell_type": "code",
   "execution_count": 5,
   "id": "f99c0088",
   "metadata": {},
   "outputs": [
    {
     "name": "stdout",
     "output_type": "stream",
     "text": [
      "(51, 9) (51, 8)\n"
     ]
    }
   ],
   "source": [
    "# train_data, test_data = np.split(model_data.sample(frac=1, random_state=1729), [int(0.7 * len(model_data))])\n",
    "# train_data, test_data = model_data, model_data\n",
    "test_data = model_data\n",
    "print(train_data.shape, test_data.shape)"
   ]
  },
  {
   "cell_type": "markdown",
   "id": "329b8da6",
   "metadata": {},
   "source": [
    "We should first get what [random_state](https://pandas.pydata.org/docs/reference/api/pandas.DataFrame.sample.html) is.\n",
    "Well, it's just a randomizer I guess."
   ]
  },
  {
   "cell_type": "code",
   "execution_count": 6,
   "id": "9092ffaf",
   "metadata": {
    "scrolled": false
   },
   "outputs": [
    {
     "name": "stdout",
     "output_type": "stream",
     "text": [
      "    0  1   2   3  4   5   6  7  8\n",
      "0   0  0   0   0  0   0   0  0  0\n",
      "1   0  0   0   0  0   3  43  3  0\n",
      "2   0  1   1   0  0   3  44  1  0\n",
      "3   0  1   2   1  0   3  42  3  1\n",
      "4   0  7   3   2  0   0  38  1  0\n",
      "5   0  3   4   3  1   4  43  1  1\n",
      "6   0  0   2   1  0   3  43  5  0\n",
      "7   0  6  14   2  0   0  38  1  0\n",
      "8   0  6   4   4  1   4  38  1  0\n",
      "9   0  6   4   5  2   7  38  1  0\n",
      "10  0  6   4  13  0   0  38  1  1\n",
      "11  0  0   8   6  1   1  43  5  0\n",
      "12  0  1   8   7  1   8  46  1  0\n",
      "13  0  7   4   2  1   0  39  1  1\n",
      "14  0  3   5  12  1   2  41  6  1\n",
      "15  0  7   9   2  1   0  39  1  0\n",
      "16  0  7   9   2  1   6  38  1  0\n",
      "17  0  3   0   8  1   5  43  1  0\n",
      "18  0  6   6   8  1   5  39  1  0\n",
      "19  0  5   0   9  0   0  43  0  0\n",
      "20  0  1  10   9  0   0  43  1  0\n",
      "21  0  0   0   0  0   0  45  3  0\n",
      "22  1  0   3   9  0   0  51  3  0\n",
      "23  1  1   3   9  0   0  51  1  1\n",
      "24  1  0   0   9  0   0  50  3  0\n",
      "25  1  1   0   9  0   0  48  1  1\n",
      "26  1  0   8   8  0   0  52  4  0\n",
      "27  1  1   8   8  0   0  52  2  0\n",
      "28  1  2   0   9  0   0  41  1  1\n",
      "29  1  2   0   1  0   0  41  2  1\n",
      "30  1  2   2   1  0   0  40  1  0\n",
      "31  1  1   7   7  0   0  51  1  0\n",
      "32  1  0   2  10  0   0  51  3  0\n",
      "33  1  1   2  10  0   0  51  2  1\n",
      "34  1  0   5  11  0   0  51  3  1\n",
      "35  1  2   5  11  0   0  52  1  1\n",
      "36  1  2   0   8  0   0  40  1  0\n",
      "37  1  1   5  11  0   0  53  1  1\n",
      "38  1  0   8  11  0   0  50  5  0\n",
      "39  1  1   8  11  0   0  50  2  0\n",
      "40  1  1   3   9  0   0  51  1  0\n",
      "41  1  3   4   7  0   0  52  4  1\n",
      "42  1  2   3   9  1   3  40  0  0\n",
      "43  1  3   4   7  1   4  51  3  0\n",
      "44  1  0   7   8  1   3  49  4  0\n",
      "45  1  0   2   0  1   9  51  4  0\n",
      "46  1  4   0   8  0   0  51  3  0\n",
      "47  1  1   0   8  0   0  51  1  1\n",
      "48  1  2   2  10  0   0  51  3  1\n",
      "49  1  0   3   1  1  10  52  3  0\n",
      "50  1  5   0   9  0   0  53  0  0\n",
      "    0  1   2   3  4   5   6  7\n",
      "0   0  0   0   0  0   0   0  0\n",
      "1   0  0   0   0  0   3  43  3\n",
      "2   0  1   1   0  0   3  44  1\n",
      "3   0  1   2   1  0   3  42  3\n",
      "4   0  7   3   2  0   0  38  1\n",
      "5   0  3   4   3  1   4  43  1\n",
      "6   0  0   2   1  0   3  43  5\n",
      "7   0  6  14   2  0   0  38  1\n",
      "8   0  6   4   4  1   4  38  1\n",
      "9   0  6   4   5  2   7  38  1\n",
      "10  0  6   4  13  0   0  38  1\n",
      "11  0  0   8   6  1   1  43  5\n",
      "12  0  1   8   7  1   8  46  1\n",
      "13  0  7   4   2  1   0  39  1\n",
      "14  0  3   5  12  1   2  41  6\n",
      "15  0  7   9   2  1   0  39  1\n",
      "16  0  7   9   2  1   6  38  1\n",
      "17  0  3   0   8  1   5  43  1\n",
      "18  0  6   6   8  1   5  39  1\n",
      "19  0  5   0   9  0   0  43  0\n",
      "20  0  1  10   9  0   0  43  1\n",
      "21  0  0   0   0  0   0  45  3\n",
      "22  1  0   3   9  0   0  51  3\n",
      "23  1  1   3   9  0   0  51  1\n",
      "24  1  0   0   9  0   0  50  3\n",
      "25  1  1   0   9  0   0  48  1\n",
      "26  1  0   8   8  0   0  52  4\n",
      "27  1  1   8   8  0   0  52  2\n",
      "28  1  2   0   9  0   0  41  1\n",
      "29  1  2   0   1  0   0  41  2\n",
      "30  1  2   2   1  0   0  40  1\n",
      "31  1  1   7   7  0   0  51  1\n",
      "32  1  0   2  10  0   0  51  3\n",
      "33  1  1   2  10  0   0  51  2\n",
      "34  1  0   5  11  0   0  51  3\n",
      "35  1  2   5  11  0   0  52  1\n",
      "36  1  2   0   8  0   0  40  1\n",
      "37  1  1   5  11  0   0  53  1\n",
      "38  1  0   8  11  0   0  50  5\n",
      "39  1  1   8  11  0   0  50  2\n",
      "40  1  1   3   9  0   0  51  1\n",
      "41  1  3   4   7  0   0  52  4\n",
      "42  1  2   3   9  1   3  40  0\n",
      "43  1  3   4   7  1   4  51  3\n",
      "44  1  0   7   8  1   3  49  4\n",
      "45  1  0   2   0  1   9  51  4\n",
      "46  1  4   0   8  0   0  51  3\n",
      "47  1  1   0   8  0   0  51  1\n",
      "48  1  2   2  10  0   0  51  3\n",
      "49  1  0   3   1  1  10  52  3\n",
      "50  1  5   0   9  0   0  53  0\n"
     ]
    }
   ],
   "source": [
    "print(train_data)\n",
    "print(test_data)"
   ]
  },
  {
   "cell_type": "code",
   "execution_count": 7,
   "id": "66f6587f",
   "metadata": {},
   "outputs": [],
   "source": [
    "train_data.to_csv(\n",
    "  'train.csv',\n",
    "  index=False,\n",
    "  header=False\n",
    ")\n",
    "boto3.Session().resource('s3').Bucket(bucket_name).Object(\n",
    "    os.path.join(\n",
    "        prefix, 'train/train.csv'\n",
    "    )\n",
    ").upload_file('train.csv')\n",
    "s3_input_train = sagemaker.inputs.TrainingInput(\n",
    "    s3_data=f's3://{bucket_name}/{prefix}/train',\n",
    "    content_type='csv'\n",
    ")"
   ]
  },
  {
   "cell_type": "code",
   "execution_count": 8,
   "id": "383f6543",
   "metadata": {},
   "outputs": [],
   "source": [
    "sess = sagemaker.Session()\n",
    "xgb = sagemaker.estimator.Estimator(\n",
    "    xgboost_container,role, instance_count=1,\n",
    "    instance_type='ml.m5.4xlarge',\n",
    "    output_path=f's3://{bucket_name}/{prefix}/output',\n",
    "    sagemaker_session=sess\n",
    ")\n",
    "xgb.set_hyperparameters(\n",
    "    max_depth=5,eta=0.2,gamma=4,\n",
    "    min_child_weight=6,subsample=0.8,\n",
    "    silent=0,objective='binary:logistic',\n",
    "    num_round=100\n",
    ")"
   ]
  },
  {
   "cell_type": "code",
   "execution_count": 9,
   "id": "e78971ca",
   "metadata": {},
   "outputs": [
    {
     "name": "stdout",
     "output_type": "stream",
     "text": [
      "<sagemaker.inputs.TrainingInput object at 0x7f84f5753e80>\n"
     ]
    }
   ],
   "source": [
    "print(s3_input_train)"
   ]
  },
  {
   "cell_type": "code",
   "execution_count": 10,
   "id": "f24698ed",
   "metadata": {
    "scrolled": false
   },
   "outputs": [
    {
     "name": "stderr",
     "output_type": "stream",
     "text": [
      "INFO:sagemaker:Creating training-job with name: xgboost-2023-06-26-13-45-00-021\n"
     ]
    },
    {
     "name": "stdout",
     "output_type": "stream",
     "text": [
      "2023-06-26 13:45:00 Starting - Starting the training job...\n",
      "2023-06-26 13:45:21 Starting - Preparing the instances for training......\n",
      "2023-06-26 13:46:21 Downloading - Downloading input data...\n",
      "2023-06-26 13:46:51 Training - Downloading the training image...\n",
      "2023-06-26 13:47:27 Uploading - Uploading generated training model\u001b[34mArguments: train\u001b[0m\n",
      "\u001b[34m[2023-06-26:13:47:20:INFO] Running standalone xgboost training.\u001b[0m\n",
      "\u001b[34m[2023-06-26:13:47:20:INFO] Path /opt/ml/input/data/validation does not exist!\u001b[0m\n",
      "\u001b[34m[2023-06-26:13:47:20:INFO] File size need to be processed in the node: 0.0mb. Available memory size in the node: 55603.2mb\u001b[0m\n",
      "\u001b[34m[2023-06-26:13:47:20:INFO] Determined delimiter of CSV input is ','\u001b[0m\n",
      "\u001b[34m[13:47:20] S3DistributionType set as FullyReplicated\u001b[0m\n",
      "\u001b[34m[13:47:20] 51x8 matrix with 408 entries loaded from /opt/ml/input/data/train?format=csv&label_column=0&delimiter=,\u001b[0m\n",
      "\u001b[34m[13:47:20] src/tree/updater_prune.cc:74: tree pruning end, 1 roots, 0 extra nodes, 0 pruned nodes, max_depth=0\u001b[0m\n",
      "\u001b[34m[0]#011train-error:0.431373\u001b[0m\n",
      "\u001b[34m[13:47:20] src/tree/updater_prune.cc:74: tree pruning end, 1 roots, 0 extra nodes, 0 pruned nodes, max_depth=0\u001b[0m\n",
      "\u001b[34m[1]#011train-error:0.431373\u001b[0m\n",
      "\u001b[34m[13:47:20] src/tree/updater_prune.cc:74: tree pruning end, 1 roots, 0 extra nodes, 0 pruned nodes, max_depth=0\u001b[0m\n",
      "\u001b[34m[2]#011train-error:0.431373\u001b[0m\n",
      "\u001b[34m[13:47:20] src/tree/updater_prune.cc:74: tree pruning end, 1 roots, 0 extra nodes, 0 pruned nodes, max_depth=0\u001b[0m\n",
      "\u001b[34m[3]#011train-error:0.431373\u001b[0m\n",
      "\u001b[34m[13:47:20] src/tree/updater_prune.cc:74: tree pruning end, 1 roots, 0 extra nodes, 0 pruned nodes, max_depth=0\u001b[0m\n",
      "\u001b[34m[4]#011train-error:0.431373\u001b[0m\n",
      "\u001b[34m[13:47:20] src/tree/updater_prune.cc:74: tree pruning end, 1 roots, 0 extra nodes, 0 pruned nodes, max_depth=0\u001b[0m\n",
      "\u001b[34m[5]#011train-error:0.431373\u001b[0m\n",
      "\u001b[34m[13:47:20] src/tree/updater_prune.cc:74: tree pruning end, 1 roots, 0 extra nodes, 0 pruned nodes, max_depth=0\u001b[0m\n",
      "\u001b[34m[6]#011train-error:0.431373\u001b[0m\n",
      "\u001b[34m[13:47:20] src/tree/updater_prune.cc:74: tree pruning end, 1 roots, 0 extra nodes, 0 pruned nodes, max_depth=0\u001b[0m\n",
      "\u001b[34m[7]#011train-error:0.431373\u001b[0m\n",
      "\u001b[34m[13:47:20] src/tree/updater_prune.cc:74: tree pruning end, 1 roots, 0 extra nodes, 0 pruned nodes, max_depth=0\u001b[0m\n",
      "\u001b[34m[8]#011train-error:0.431373\u001b[0m\n",
      "\u001b[34m[13:47:20] src/tree/updater_prune.cc:74: tree pruning end, 1 roots, 0 extra nodes, 0 pruned nodes, max_depth=0\u001b[0m\n",
      "\u001b[34m[9]#011train-error:0.431373\u001b[0m\n",
      "\u001b[34m[13:47:20] src/tree/updater_prune.cc:74: tree pruning end, 1 roots, 0 extra nodes, 0 pruned nodes, max_depth=0\u001b[0m\n",
      "\u001b[34m[10]#011train-error:0.431373\u001b[0m\n",
      "\u001b[34m[13:47:20] src/tree/updater_prune.cc:74: tree pruning end, 1 roots, 0 extra nodes, 0 pruned nodes, max_depth=0\u001b[0m\n",
      "\u001b[34m[11]#011train-error:0.431373\u001b[0m\n",
      "\u001b[34m[13:47:20] src/tree/updater_prune.cc:74: tree pruning end, 1 roots, 0 extra nodes, 0 pruned nodes, max_depth=0\u001b[0m\n",
      "\u001b[34m[12]#011train-error:0.431373\u001b[0m\n",
      "\u001b[34m[13:47:20] src/tree/updater_prune.cc:74: tree pruning end, 1 roots, 0 extra nodes, 0 pruned nodes, max_depth=0\u001b[0m\n",
      "\u001b[34m[13]#011train-error:0.431373\u001b[0m\n",
      "\u001b[34m[13:47:20] src/tree/updater_prune.cc:74: tree pruning end, 1 roots, 0 extra nodes, 0 pruned nodes, max_depth=0\u001b[0m\n",
      "\u001b[34m[14]#011train-error:0.431373\u001b[0m\n",
      "\u001b[34m[13:47:20] src/tree/updater_prune.cc:74: tree pruning end, 1 roots, 0 extra nodes, 0 pruned nodes, max_depth=0\u001b[0m\n",
      "\u001b[34m[15]#011train-error:0.431373\u001b[0m\n",
      "\u001b[34m[13:47:20] src/tree/updater_prune.cc:74: tree pruning end, 1 roots, 0 extra nodes, 0 pruned nodes, max_depth=0\u001b[0m\n",
      "\u001b[34m[16]#011train-error:0.431373\u001b[0m\n",
      "\u001b[34m[13:47:20] src/tree/updater_prune.cc:74: tree pruning end, 1 roots, 0 extra nodes, 0 pruned nodes, max_depth=0\u001b[0m\n",
      "\u001b[34m[17]#011train-error:0.431373\u001b[0m\n",
      "\u001b[34m[13:47:20] src/tree/updater_prune.cc:74: tree pruning end, 1 roots, 0 extra nodes, 0 pruned nodes, max_depth=0\u001b[0m\n",
      "\u001b[34m[18]#011train-error:0.431373\u001b[0m\n",
      "\u001b[34m[13:47:20] src/tree/updater_prune.cc:74: tree pruning end, 1 roots, 0 extra nodes, 0 pruned nodes, max_depth=0\u001b[0m\n",
      "\u001b[34m[19]#011train-error:0.431373\u001b[0m\n",
      "\u001b[34m[13:47:20] src/tree/updater_prune.cc:74: tree pruning end, 1 roots, 0 extra nodes, 0 pruned nodes, max_depth=0\u001b[0m\n",
      "\u001b[34m[20]#011train-error:0.431373\u001b[0m\n",
      "\u001b[34m[13:47:20] src/tree/updater_prune.cc:74: tree pruning end, 1 roots, 0 extra nodes, 0 pruned nodes, max_depth=0\u001b[0m\n",
      "\u001b[34m[21]#011train-error:0.431373\u001b[0m\n",
      "\u001b[34m[13:47:20] src/tree/updater_prune.cc:74: tree pruning end, 1 roots, 0 extra nodes, 0 pruned nodes, max_depth=0\u001b[0m\n",
      "\u001b[34m[22]#011train-error:0.431373\u001b[0m\n",
      "\u001b[34m[13:47:20] src/tree/updater_prune.cc:74: tree pruning end, 1 roots, 0 extra nodes, 0 pruned nodes, max_depth=0\u001b[0m\n",
      "\u001b[34m[23]#011train-error:0.431373\u001b[0m\n",
      "\u001b[34m[13:47:20] src/tree/updater_prune.cc:74: tree pruning end, 1 roots, 0 extra nodes, 0 pruned nodes, max_depth=0\u001b[0m\n",
      "\u001b[34m[24]#011train-error:0.431373\u001b[0m\n",
      "\u001b[34m[13:47:20] src/tree/updater_prune.cc:74: tree pruning end, 1 roots, 0 extra nodes, 0 pruned nodes, max_depth=0\u001b[0m\n",
      "\u001b[34m[25]#011train-error:0.431373\u001b[0m\n",
      "\u001b[34m[13:47:20] src/tree/updater_prune.cc:74: tree pruning end, 1 roots, 0 extra nodes, 0 pruned nodes, max_depth=0\u001b[0m\n",
      "\u001b[34m[26]#011train-error:0.431373\u001b[0m\n",
      "\u001b[34m[13:47:20] src/tree/updater_prune.cc:74: tree pruning end, 1 roots, 0 extra nodes, 0 pruned nodes, max_depth=0\u001b[0m\n",
      "\u001b[34m[27]#011train-error:0.431373\u001b[0m\n",
      "\u001b[34m[13:47:20] src/tree/updater_prune.cc:74: tree pruning end, 1 roots, 0 extra nodes, 0 pruned nodes, max_depth=0\u001b[0m\n",
      "\u001b[34m[28]#011train-error:0.431373\u001b[0m\n",
      "\u001b[34m[13:47:20] src/tree/updater_prune.cc:74: tree pruning end, 1 roots, 0 extra nodes, 0 pruned nodes, max_depth=0\u001b[0m\n",
      "\u001b[34m[29]#011train-error:0.431373\u001b[0m\n",
      "\u001b[34m[13:47:20] src/tree/updater_prune.cc:74: tree pruning end, 1 roots, 0 extra nodes, 0 pruned nodes, max_depth=0\u001b[0m\n",
      "\u001b[34m[30]#011train-error:0.431373\u001b[0m\n",
      "\u001b[34m[13:47:20] src/tree/updater_prune.cc:74: tree pruning end, 1 roots, 0 extra nodes, 0 pruned nodes, max_depth=0\u001b[0m\n",
      "\u001b[34m[31]#011train-error:0.431373\u001b[0m\n",
      "\u001b[34m[13:47:20] src/tree/updater_prune.cc:74: tree pruning end, 1 roots, 0 extra nodes, 0 pruned nodes, max_depth=0\u001b[0m\n",
      "\u001b[34m[32]#011train-error:0.431373\u001b[0m\n",
      "\u001b[34m[13:47:20] src/tree/updater_prune.cc:74: tree pruning end, 1 roots, 0 extra nodes, 0 pruned nodes, max_depth=0\u001b[0m\n",
      "\u001b[34m[33]#011train-error:0.431373\u001b[0m\n",
      "\u001b[34m[13:47:20] src/tree/updater_prune.cc:74: tree pruning end, 1 roots, 0 extra nodes, 0 pruned nodes, max_depth=0\u001b[0m\n",
      "\u001b[34m[34]#011train-error:0.431373\u001b[0m\n",
      "\u001b[34m[13:47:20] src/tree/updater_prune.cc:74: tree pruning end, 1 roots, 0 extra nodes, 0 pruned nodes, max_depth=0\u001b[0m\n",
      "\u001b[34m[35]#011train-error:0.431373\u001b[0m\n",
      "\u001b[34m[13:47:20] src/tree/updater_prune.cc:74: tree pruning end, 1 roots, 0 extra nodes, 0 pruned nodes, max_depth=0\u001b[0m\n",
      "\u001b[34m[36]#011train-error:0.431373\u001b[0m\n",
      "\u001b[34m[13:47:20] src/tree/updater_prune.cc:74: tree pruning end, 1 roots, 0 extra nodes, 0 pruned nodes, max_depth=0\u001b[0m\n",
      "\u001b[34m[37]#011train-error:0.431373\u001b[0m\n",
      "\u001b[34m[13:47:20] src/tree/updater_prune.cc:74: tree pruning end, 1 roots, 0 extra nodes, 0 pruned nodes, max_depth=0\u001b[0m\n",
      "\u001b[34m[38]#011train-error:0.431373\u001b[0m\n",
      "\u001b[34m[13:47:20] src/tree/updater_prune.cc:74: tree pruning end, 1 roots, 0 extra nodes, 0 pruned nodes, max_depth=0\u001b[0m\n",
      "\u001b[34m[39]#011train-error:0.431373\u001b[0m\n",
      "\u001b[34m[13:47:20] src/tree/updater_prune.cc:74: tree pruning end, 1 roots, 0 extra nodes, 0 pruned nodes, max_depth=0\u001b[0m\n",
      "\u001b[34m[40]#011train-error:0.431373\u001b[0m\n",
      "\u001b[34m[13:47:20] src/tree/updater_prune.cc:74: tree pruning end, 1 roots, 0 extra nodes, 0 pruned nodes, max_depth=0\u001b[0m\n",
      "\u001b[34m[41]#011train-error:0.431373\u001b[0m\n",
      "\u001b[34m[13:47:20] src/tree/updater_prune.cc:74: tree pruning end, 1 roots, 0 extra nodes, 0 pruned nodes, max_depth=0\u001b[0m\n",
      "\u001b[34m[42]#011train-error:0.431373\u001b[0m\n",
      "\u001b[34m[13:47:20] src/tree/updater_prune.cc:74: tree pruning end, 1 roots, 0 extra nodes, 0 pruned nodes, max_depth=0\u001b[0m\n",
      "\u001b[34m[43]#011train-error:0.431373\u001b[0m\n",
      "\u001b[34m[13:47:20] src/tree/updater_prune.cc:74: tree pruning end, 1 roots, 0 extra nodes, 0 pruned nodes, max_depth=0\u001b[0m\n",
      "\u001b[34m[44]#011train-error:0.431373\u001b[0m\n",
      "\u001b[34m[13:47:20] src/tree/updater_prune.cc:74: tree pruning end, 1 roots, 0 extra nodes, 0 pruned nodes, max_depth=0\u001b[0m\n",
      "\u001b[34m[45]#011train-error:0.431373\u001b[0m\n",
      "\u001b[34m[13:47:20] src/tree/updater_prune.cc:74: tree pruning end, 1 roots, 0 extra nodes, 0 pruned nodes, max_depth=0\u001b[0m\n",
      "\u001b[34m[46]#011train-error:0.431373\u001b[0m\n",
      "\u001b[34m[13:47:20] src/tree/updater_prune.cc:74: tree pruning end, 1 roots, 0 extra nodes, 0 pruned nodes, max_depth=0\u001b[0m\n",
      "\u001b[34m[47]#011train-error:0.431373\u001b[0m\n",
      "\u001b[34m[13:47:20] src/tree/updater_prune.cc:74: tree pruning end, 1 roots, 0 extra nodes, 0 pruned nodes, max_depth=0\u001b[0m\n",
      "\u001b[34m[48]#011train-error:0.431373\u001b[0m\n",
      "\u001b[34m[13:47:20] src/tree/updater_prune.cc:74: tree pruning end, 1 roots, 0 extra nodes, 0 pruned nodes, max_depth=0\u001b[0m\n",
      "\u001b[34m[49]#011train-error:0.431373\u001b[0m\n",
      "\u001b[34m[13:47:20] src/tree/updater_prune.cc:74: tree pruning end, 1 roots, 0 extra nodes, 0 pruned nodes, max_depth=0\u001b[0m\n",
      "\u001b[34m[50]#011train-error:0.431373\u001b[0m\n",
      "\u001b[34m[13:47:20] src/tree/updater_prune.cc:74: tree pruning end, 1 roots, 0 extra nodes, 0 pruned nodes, max_depth=0\u001b[0m\n",
      "\u001b[34m[51]#011train-error:0.431373\u001b[0m\n",
      "\u001b[34m[13:47:20] src/tree/updater_prune.cc:74: tree pruning end, 1 roots, 0 extra nodes, 0 pruned nodes, max_depth=0\u001b[0m\n",
      "\u001b[34m[52]#011train-error:0.431373\u001b[0m\n",
      "\u001b[34m[13:47:20] src/tree/updater_prune.cc:74: tree pruning end, 1 roots, 0 extra nodes, 0 pruned nodes, max_depth=0\u001b[0m\n",
      "\u001b[34m[53]#011train-error:0.431373\u001b[0m\n",
      "\u001b[34m[13:47:20] src/tree/updater_prune.cc:74: tree pruning end, 1 roots, 0 extra nodes, 0 pruned nodes, max_depth=0\u001b[0m\n",
      "\u001b[34m[54]#011train-error:0.431373\u001b[0m\n",
      "\u001b[34m[13:47:20] src/tree/updater_prune.cc:74: tree pruning end, 1 roots, 0 extra nodes, 0 pruned nodes, max_depth=0\u001b[0m\n",
      "\u001b[34m[55]#011train-error:0.431373\u001b[0m\n",
      "\u001b[34m[13:47:20] src/tree/updater_prune.cc:74: tree pruning end, 1 roots, 0 extra nodes, 0 pruned nodes, max_depth=0\u001b[0m\n",
      "\u001b[34m[56]#011train-error:0.431373\u001b[0m\n",
      "\u001b[34m[13:47:20] src/tree/updater_prune.cc:74: tree pruning end, 1 roots, 0 extra nodes, 0 pruned nodes, max_depth=0\u001b[0m\n",
      "\u001b[34m[57]#011train-error:0.431373\u001b[0m\n",
      "\u001b[34m[13:47:20] src/tree/updater_prune.cc:74: tree pruning end, 1 roots, 0 extra nodes, 0 pruned nodes, max_depth=0\u001b[0m\n",
      "\u001b[34m[58]#011train-error:0.431373\u001b[0m\n",
      "\u001b[34m[13:47:20] src/tree/updater_prune.cc:74: tree pruning end, 1 roots, 0 extra nodes, 0 pruned nodes, max_depth=0\u001b[0m\n",
      "\u001b[34m[59]#011train-error:0.431373\u001b[0m\n",
      "\u001b[34m[13:47:20] src/tree/updater_prune.cc:74: tree pruning end, 1 roots, 0 extra nodes, 0 pruned nodes, max_depth=0\u001b[0m\n",
      "\u001b[34m[60]#011train-error:0.431373\u001b[0m\n",
      "\u001b[34m[13:47:20] src/tree/updater_prune.cc:74: tree pruning end, 1 roots, 0 extra nodes, 0 pruned nodes, max_depth=0\u001b[0m\n",
      "\u001b[34m[61]#011train-error:0.431373\u001b[0m\n",
      "\u001b[34m[13:47:20] src/tree/updater_prune.cc:74: tree pruning end, 1 roots, 0 extra nodes, 0 pruned nodes, max_depth=0\u001b[0m\n",
      "\u001b[34m[62]#011train-error:0.431373\u001b[0m\n",
      "\u001b[34m[13:47:20] src/tree/updater_prune.cc:74: tree pruning end, 1 roots, 0 extra nodes, 0 pruned nodes, max_depth=0\u001b[0m\n",
      "\u001b[34m[63]#011train-error:0.431373\u001b[0m\n",
      "\u001b[34m[13:47:20] src/tree/updater_prune.cc:74: tree pruning end, 1 roots, 0 extra nodes, 0 pruned nodes, max_depth=0\u001b[0m\n",
      "\u001b[34m[64]#011train-error:0.431373\u001b[0m\n",
      "\u001b[34m[13:47:20] src/tree/updater_prune.cc:74: tree pruning end, 1 roots, 0 extra nodes, 0 pruned nodes, max_depth=0\u001b[0m\n",
      "\u001b[34m[65]#011train-error:0.431373\u001b[0m\n",
      "\u001b[34m[13:47:20] src/tree/updater_prune.cc:74: tree pruning end, 1 roots, 0 extra nodes, 0 pruned nodes, max_depth=0\u001b[0m\n",
      "\u001b[34m[66]#011train-error:0.431373\u001b[0m\n",
      "\u001b[34m[13:47:20] src/tree/updater_prune.cc:74: tree pruning end, 1 roots, 0 extra nodes, 0 pruned nodes, max_depth=0\u001b[0m\n",
      "\u001b[34m[67]#011train-error:0.431373\u001b[0m\n",
      "\u001b[34m[13:47:20] src/tree/updater_prune.cc:74: tree pruning end, 1 roots, 0 extra nodes, 0 pruned nodes, max_depth=0\u001b[0m\n",
      "\u001b[34m[68]#011train-error:0.431373\u001b[0m\n",
      "\u001b[34m[13:47:20] src/tree/updater_prune.cc:74: tree pruning end, 1 roots, 0 extra nodes, 0 pruned nodes, max_depth=0\u001b[0m\n",
      "\u001b[34m[69]#011train-error:0.431373\u001b[0m\n",
      "\u001b[34m[13:47:20] src/tree/updater_prune.cc:74: tree pruning end, 1 roots, 0 extra nodes, 0 pruned nodes, max_depth=0\u001b[0m\n",
      "\u001b[34m[70]#011train-error:0.431373\u001b[0m\n",
      "\u001b[34m[13:47:20] src/tree/updater_prune.cc:74: tree pruning end, 1 roots, 0 extra nodes, 0 pruned nodes, max_depth=0\u001b[0m\n",
      "\u001b[34m[71]#011train-error:0.431373\u001b[0m\n",
      "\u001b[34m[13:47:20] src/tree/updater_prune.cc:74: tree pruning end, 1 roots, 0 extra nodes, 0 pruned nodes, max_depth=0\u001b[0m\n",
      "\u001b[34m[72]#011train-error:0.431373\u001b[0m\n",
      "\u001b[34m[13:47:20] src/tree/updater_prune.cc:74: tree pruning end, 1 roots, 0 extra nodes, 0 pruned nodes, max_depth=0\u001b[0m\n",
      "\u001b[34m[73]#011train-error:0.431373\u001b[0m\n",
      "\u001b[34m[13:47:20] src/tree/updater_prune.cc:74: tree pruning end, 1 roots, 0 extra nodes, 0 pruned nodes, max_depth=0\u001b[0m\n",
      "\u001b[34m[74]#011train-error:0.431373\u001b[0m\n",
      "\u001b[34m[13:47:20] src/tree/updater_prune.cc:74: tree pruning end, 1 roots, 0 extra nodes, 0 pruned nodes, max_depth=0\u001b[0m\n",
      "\u001b[34m[75]#011train-error:0.431373\u001b[0m\n",
      "\u001b[34m[13:47:20] src/tree/updater_prune.cc:74: tree pruning end, 1 roots, 0 extra nodes, 0 pruned nodes, max_depth=0\u001b[0m\n",
      "\u001b[34m[76]#011train-error:0.431373\u001b[0m\n",
      "\u001b[34m[13:47:20] src/tree/updater_prune.cc:74: tree pruning end, 1 roots, 0 extra nodes, 0 pruned nodes, max_depth=0\u001b[0m\n",
      "\u001b[34m[77]#011train-error:0.431373\u001b[0m\n",
      "\u001b[34m[13:47:20] src/tree/updater_prune.cc:74: tree pruning end, 1 roots, 0 extra nodes, 0 pruned nodes, max_depth=0\u001b[0m\n",
      "\u001b[34m[78]#011train-error:0.431373\u001b[0m\n",
      "\u001b[34m[13:47:20] src/tree/updater_prune.cc:74: tree pruning end, 1 roots, 0 extra nodes, 0 pruned nodes, max_depth=0\u001b[0m\n",
      "\u001b[34m[79]#011train-error:0.431373\u001b[0m\n",
      "\u001b[34m[13:47:20] src/tree/updater_prune.cc:74: tree pruning end, 1 roots, 0 extra nodes, 0 pruned nodes, max_depth=0\u001b[0m\n",
      "\u001b[34m[80]#011train-error:0.431373\u001b[0m\n",
      "\u001b[34m[13:47:20] src/tree/updater_prune.cc:74: tree pruning end, 1 roots, 0 extra nodes, 0 pruned nodes, max_depth=0\u001b[0m\n",
      "\u001b[34m[81]#011train-error:0.431373\u001b[0m\n",
      "\u001b[34m[13:47:20] src/tree/updater_prune.cc:74: tree pruning end, 1 roots, 0 extra nodes, 0 pruned nodes, max_depth=0\u001b[0m\n",
      "\u001b[34m[82]#011train-error:0.431373\u001b[0m\n",
      "\u001b[34m[13:47:20] src/tree/updater_prune.cc:74: tree pruning end, 1 roots, 0 extra nodes, 0 pruned nodes, max_depth=0\u001b[0m\n",
      "\u001b[34m[83]#011train-error:0.431373\u001b[0m\n",
      "\u001b[34m[13:47:20] src/tree/updater_prune.cc:74: tree pruning end, 1 roots, 0 extra nodes, 0 pruned nodes, max_depth=0\u001b[0m\n",
      "\u001b[34m[84]#011train-error:0.431373\u001b[0m\n",
      "\u001b[34m[13:47:20] src/tree/updater_prune.cc:74: tree pruning end, 1 roots, 0 extra nodes, 0 pruned nodes, max_depth=0\u001b[0m\n",
      "\u001b[34m[85]#011train-error:0.431373\u001b[0m\n",
      "\u001b[34m[13:47:20] src/tree/updater_prune.cc:74: tree pruning end, 1 roots, 0 extra nodes, 0 pruned nodes, max_depth=0\u001b[0m\n",
      "\u001b[34m[86]#011train-error:0.431373\u001b[0m\n",
      "\u001b[34m[13:47:20] src/tree/updater_prune.cc:74: tree pruning end, 1 roots, 0 extra nodes, 0 pruned nodes, max_depth=0\u001b[0m\n",
      "\u001b[34m[87]#011train-error:0.431373\u001b[0m\n",
      "\u001b[34m[13:47:20] src/tree/updater_prune.cc:74: tree pruning end, 1 roots, 0 extra nodes, 0 pruned nodes, max_depth=0\u001b[0m\n",
      "\u001b[34m[88]#011train-error:0.431373\u001b[0m\n",
      "\u001b[34m[13:47:20] src/tree/updater_prune.cc:74: tree pruning end, 1 roots, 0 extra nodes, 0 pruned nodes, max_depth=0\u001b[0m\n",
      "\u001b[34m[89]#011train-error:0.431373\u001b[0m\n",
      "\u001b[34m[13:47:20] src/tree/updater_prune.cc:74: tree pruning end, 1 roots, 0 extra nodes, 0 pruned nodes, max_depth=0\u001b[0m\n",
      "\u001b[34m[90]#011train-error:0.431373\u001b[0m\n",
      "\u001b[34m[13:47:20] src/tree/updater_prune.cc:74: tree pruning end, 1 roots, 0 extra nodes, 0 pruned nodes, max_depth=0\u001b[0m\n",
      "\u001b[34m[91]#011train-error:0.431373\u001b[0m\n",
      "\u001b[34m[13:47:20] src/tree/updater_prune.cc:74: tree pruning end, 1 roots, 0 extra nodes, 0 pruned nodes, max_depth=0\u001b[0m\n",
      "\u001b[34m[92]#011train-error:0.431373\u001b[0m\n",
      "\u001b[34m[13:47:20] src/tree/updater_prune.cc:74: tree pruning end, 1 roots, 0 extra nodes, 0 pruned nodes, max_depth=0\u001b[0m\n",
      "\u001b[34m[93]#011train-error:0.431373\u001b[0m\n",
      "\u001b[34m[13:47:20] src/tree/updater_prune.cc:74: tree pruning end, 1 roots, 0 extra nodes, 0 pruned nodes, max_depth=0\u001b[0m\n",
      "\u001b[34m[94]#011train-error:0.431373\u001b[0m\n",
      "\u001b[34m[13:47:20] src/tree/updater_prune.cc:74: tree pruning end, 1 roots, 0 extra nodes, 0 pruned nodes, max_depth=0\u001b[0m\n",
      "\u001b[34m[95]#011train-error:0.431373\u001b[0m\n",
      "\u001b[34m[13:47:20] src/tree/updater_prune.cc:74: tree pruning end, 1 roots, 0 extra nodes, 0 pruned nodes, max_depth=0\u001b[0m\n",
      "\u001b[34m[96]#011train-error:0.431373\u001b[0m\n",
      "\u001b[34m[13:47:20] src/tree/updater_prune.cc:74: tree pruning end, 1 roots, 0 extra nodes, 0 pruned nodes, max_depth=0\u001b[0m\n",
      "\u001b[34m[97]#011train-error:0.431373\u001b[0m\n",
      "\u001b[34m[13:47:20] src/tree/updater_prune.cc:74: tree pruning end, 1 roots, 0 extra nodes, 0 pruned nodes, max_depth=0\u001b[0m\n",
      "\u001b[34m[98]#011train-error:0.431373\u001b[0m\n",
      "\u001b[34m[13:47:20] src/tree/updater_prune.cc:74: tree pruning end, 1 roots, 0 extra nodes, 0 pruned nodes, max_depth=0\u001b[0m\n",
      "\u001b[34m[99]#011train-error:0.431373\u001b[0m\n",
      "\n",
      "2023-06-26 13:47:38 Completed - Training job completed\n",
      "Training seconds: 78\n",
      "Billable seconds: 78\n"
     ]
    }
   ],
   "source": [
    "xgb.fit({'train': s3_input_train})"
   ]
  },
  {
   "cell_type": "markdown",
   "id": "68049c23",
   "metadata": {},
   "source": [
    "Then we'll instanciate the sagemaker.predictor.Predictor..."
   ]
  },
  {
   "cell_type": "code",
   "execution_count": null,
   "id": "2f8e7709",
   "metadata": {},
   "outputs": [
    {
     "name": "stderr",
     "output_type": "stream",
     "text": [
      "INFO:sagemaker:Creating model with name: xgboost-2023-06-26-13-55-56-809\n",
      "INFO:sagemaker:Creating endpoint-config with name xgboost-2023-06-26-13-55-56-809\n",
      "INFO:sagemaker:Creating endpoint with name xgboost-2023-06-26-13-55-56-809\n"
     ]
    },
    {
     "name": "stdout",
     "output_type": "stream",
     "text": [
      "---"
     ]
    }
   ],
   "source": [
    "predictor = xgb.deploy(\n",
    "    initial_instance_count=1,\n",
    "    instance_type='ml.r5.large'\n",
    ")"
   ]
  },
  {
   "cell_type": "code",
   "execution_count": 12,
   "id": "c238d915",
   "metadata": {},
   "outputs": [
    {
     "ename": "ModelError",
     "evalue": "An error occurred (ModelError) when calling the InvokeEndpoint operation: Received client error (400) from primary with message \"Unable to evaluate payload provided: Feature size of csv inference data 8 is not consistent with feature size of trained model 7\". See https://eu-north-1.console.aws.amazon.com/cloudwatch/home?region=eu-north-1#logEventViewer:group=/aws/sagemaker/Endpoints/xgboost-2023-06-26-12-58-24-473 in account 191548338305 for more information.",
     "output_type": "error",
     "traceback": [
      "\u001b[0;31m---------------------------------------------------------------------------\u001b[0m",
      "\u001b[0;31mModelError\u001b[0m                                Traceback (most recent call last)",
      "Cell \u001b[0;32mIn[12], line 5\u001b[0m\n\u001b[1;32m      3\u001b[0m test_data_array \u001b[38;5;241m=\u001b[39m test_data\u001b[38;5;241m.\u001b[39mvalues \u001b[38;5;66;03m#load the data into an array\u001b[39;00m\n\u001b[1;32m      4\u001b[0m predictor\u001b[38;5;241m.\u001b[39mserializer \u001b[38;5;241m=\u001b[39m CSVSerializer() \u001b[38;5;66;03m# set the serializer type\u001b[39;00m\n\u001b[0;32m----> 5\u001b[0m predictions \u001b[38;5;241m=\u001b[39m \u001b[43mpredictor\u001b[49m\u001b[38;5;241;43m.\u001b[39;49m\u001b[43mpredict\u001b[49m\u001b[43m(\u001b[49m\u001b[43mtest_data_array\u001b[49m\u001b[43m)\u001b[49m\u001b[38;5;241m.\u001b[39mdecode(\u001b[38;5;124m'\u001b[39m\u001b[38;5;124mutf-8\u001b[39m\u001b[38;5;124m'\u001b[39m) \u001b[38;5;66;03m# predict!\u001b[39;00m\n\u001b[1;32m      6\u001b[0m predictions_array \u001b[38;5;241m=\u001b[39m np\u001b[38;5;241m.\u001b[39mfromstring(predictions[\u001b[38;5;241m1\u001b[39m:], sep\u001b[38;5;241m=\u001b[39m\u001b[38;5;124m'\u001b[39m\u001b[38;5;124m,\u001b[39m\u001b[38;5;124m'\u001b[39m) \u001b[38;5;66;03m# and turn the prediction into an array\u001b[39;00m\n\u001b[1;32m      7\u001b[0m \u001b[38;5;28mprint\u001b[39m(predictions_array\u001b[38;5;241m.\u001b[39mshape)\n",
      "File \u001b[0;32m~/anaconda3/envs/python3/lib/python3.10/site-packages/sagemaker/base_predictor.py:163\u001b[0m, in \u001b[0;36mPredictor.predict\u001b[0;34m(self, data, initial_args, target_model, target_variant, inference_id)\u001b[0m\n\u001b[1;32m    133\u001b[0m \u001b[38;5;250m\u001b[39m\u001b[38;5;124;03m\"\"\"Return the inference from the specified endpoint.\u001b[39;00m\n\u001b[1;32m    134\u001b[0m \n\u001b[1;32m    135\u001b[0m \u001b[38;5;124;03mArgs:\u001b[39;00m\n\u001b[0;32m   (...)\u001b[0m\n\u001b[1;32m    157\u001b[0m \u001b[38;5;124;03m        as is.\u001b[39;00m\n\u001b[1;32m    158\u001b[0m \u001b[38;5;124;03m\"\"\"\u001b[39;00m\n\u001b[1;32m    160\u001b[0m request_args \u001b[38;5;241m=\u001b[39m \u001b[38;5;28mself\u001b[39m\u001b[38;5;241m.\u001b[39m_create_request_args(\n\u001b[1;32m    161\u001b[0m     data, initial_args, target_model, target_variant, inference_id\n\u001b[1;32m    162\u001b[0m )\n\u001b[0;32m--> 163\u001b[0m response \u001b[38;5;241m=\u001b[39m \u001b[38;5;28;43mself\u001b[39;49m\u001b[38;5;241;43m.\u001b[39;49m\u001b[43msagemaker_session\u001b[49m\u001b[38;5;241;43m.\u001b[39;49m\u001b[43msagemaker_runtime_client\u001b[49m\u001b[38;5;241;43m.\u001b[39;49m\u001b[43minvoke_endpoint\u001b[49m\u001b[43m(\u001b[49m\u001b[38;5;241;43m*\u001b[39;49m\u001b[38;5;241;43m*\u001b[39;49m\u001b[43mrequest_args\u001b[49m\u001b[43m)\u001b[49m\n\u001b[1;32m    164\u001b[0m \u001b[38;5;28;01mreturn\u001b[39;00m \u001b[38;5;28mself\u001b[39m\u001b[38;5;241m.\u001b[39m_handle_response(response)\n",
      "File \u001b[0;32m~/anaconda3/envs/python3/lib/python3.10/site-packages/botocore/client.py:530\u001b[0m, in \u001b[0;36mClientCreator._create_api_method.<locals>._api_call\u001b[0;34m(self, *args, **kwargs)\u001b[0m\n\u001b[1;32m    526\u001b[0m     \u001b[38;5;28;01mraise\u001b[39;00m \u001b[38;5;167;01mTypeError\u001b[39;00m(\n\u001b[1;32m    527\u001b[0m         \u001b[38;5;124mf\u001b[39m\u001b[38;5;124m\"\u001b[39m\u001b[38;5;132;01m{\u001b[39;00mpy_operation_name\u001b[38;5;132;01m}\u001b[39;00m\u001b[38;5;124m() only accepts keyword arguments.\u001b[39m\u001b[38;5;124m\"\u001b[39m\n\u001b[1;32m    528\u001b[0m     )\n\u001b[1;32m    529\u001b[0m \u001b[38;5;66;03m# The \"self\" in this scope is referring to the BaseClient.\u001b[39;00m\n\u001b[0;32m--> 530\u001b[0m \u001b[38;5;28;01mreturn\u001b[39;00m \u001b[38;5;28;43mself\u001b[39;49m\u001b[38;5;241;43m.\u001b[39;49m\u001b[43m_make_api_call\u001b[49m\u001b[43m(\u001b[49m\u001b[43moperation_name\u001b[49m\u001b[43m,\u001b[49m\u001b[43m \u001b[49m\u001b[43mkwargs\u001b[49m\u001b[43m)\u001b[49m\n",
      "File \u001b[0;32m~/anaconda3/envs/python3/lib/python3.10/site-packages/botocore/client.py:964\u001b[0m, in \u001b[0;36mBaseClient._make_api_call\u001b[0;34m(self, operation_name, api_params)\u001b[0m\n\u001b[1;32m    962\u001b[0m     error_code \u001b[38;5;241m=\u001b[39m parsed_response\u001b[38;5;241m.\u001b[39mget(\u001b[38;5;124m\"\u001b[39m\u001b[38;5;124mError\u001b[39m\u001b[38;5;124m\"\u001b[39m, {})\u001b[38;5;241m.\u001b[39mget(\u001b[38;5;124m\"\u001b[39m\u001b[38;5;124mCode\u001b[39m\u001b[38;5;124m\"\u001b[39m)\n\u001b[1;32m    963\u001b[0m     error_class \u001b[38;5;241m=\u001b[39m \u001b[38;5;28mself\u001b[39m\u001b[38;5;241m.\u001b[39mexceptions\u001b[38;5;241m.\u001b[39mfrom_code(error_code)\n\u001b[0;32m--> 964\u001b[0m     \u001b[38;5;28;01mraise\u001b[39;00m error_class(parsed_response, operation_name)\n\u001b[1;32m    965\u001b[0m \u001b[38;5;28;01melse\u001b[39;00m:\n\u001b[1;32m    966\u001b[0m     \u001b[38;5;28;01mreturn\u001b[39;00m parsed_response\n",
      "\u001b[0;31mModelError\u001b[0m: An error occurred (ModelError) when calling the InvokeEndpoint operation: Received client error (400) from primary with message \"Unable to evaluate payload provided: Feature size of csv inference data 8 is not consistent with feature size of trained model 7\". See https://eu-north-1.console.aws.amazon.com/cloudwatch/home?region=eu-north-1#logEventViewer:group=/aws/sagemaker/Endpoints/xgboost-2023-06-26-12-58-24-473 in account 191548338305 for more information."
     ]
    }
   ],
   "source": [
    "from sagemaker.serializers import CSVSerializer\n",
    "\n",
    "test_data_array = test_data.values #load the data into an array\n",
    "predictor.serializer = CSVSerializer() # set the serializer type\n",
    "predictions = predictor.predict(test_data_array).decode('utf-8') # predict!\n",
    "predictions_array = np.fromstring(predictions[1:], sep=',') # and turn the prediction into an array\n",
    "print(predictions_array.shape)"
   ]
  }
 ],
 "metadata": {
  "kernelspec": {
   "display_name": "conda_python3",
   "language": "python",
   "name": "conda_python3"
  },
  "language_info": {
   "codemirror_mode": {
    "name": "ipython",
    "version": 3
   },
   "file_extension": ".py",
   "mimetype": "text/x-python",
   "name": "python",
   "nbconvert_exporter": "python",
   "pygments_lexer": "ipython3",
   "version": "3.10.10"
  }
 },
 "nbformat": 4,
 "nbformat_minor": 5
}
