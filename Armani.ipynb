{
 "cells": [
  {
   "cell_type": "markdown",
   "id": "1dea5370",
   "metadata": {},
   "source": [
    "# Armani SageMaker instance "
   ]
  },
  {
   "cell_type": "code",
   "execution_count": 1,
   "id": "a304c430",
   "metadata": {},
   "outputs": [
    {
     "name": "stdout",
     "output_type": "stream",
     "text": [
      "Success - the MySageMakerInstance is in the eu-north-1 region. You will use the 669576153137.dkr.ecr.eu-north-1.amazonaws.com/xgboost:latest container for your SageMaker endpoint.\n"
     ]
    }
   ],
   "source": [
    "# import libraries\n",
    "import boto3, re, sys, math, json, os, sagemaker, urllib.request\n",
    "from sagemaker import get_execution_role\n",
    "import numpy as np\n",
    "import pandas as pd\n",
    "import matplotlib.pyplot as plt\n",
    "from IPython.display import Image\n",
    "from IPython.display import display\n",
    "from time import gmtime, strftime\n",
    "# from sagemaker.predictor import csv_serializer\n",
    "\n",
    "# Define IAM role\n",
    "role = get_execution_role()\n",
    "prefix = 'sagemaker/DEMO-xgboost-dm'\n",
    "my_region = boto3.session.Session().region_name # set the region of the instance\n",
    "\n",
    "# this line automatically looks for the XGBoost image URI and builds an XGBoost container.\n",
    "xgboost_container = sagemaker.image_uris.retrieve(\"xgboost\", my_region, \"latest\")\n",
    "\n",
    "print(\"Success - the MySageMakerInstance is in the \" + my_region + \" region. You will use the \" + xgboost_container + \" container for your SageMaker endpoint.\")"
   ]
  },
  {
   "cell_type": "code",
   "execution_count": 2,
   "id": "713b1c12",
   "metadata": {},
   "outputs": [
    {
     "name": "stdout",
     "output_type": "stream",
     "text": [
      "S3 error:  An error occurred (BucketAlreadyOwnedByYou) when calling the CreateBucket operation: Your previous request to create the named bucket succeeded and you already own it.\n"
     ]
    }
   ],
   "source": [
    "bucket_name = 'cestino-s3'\n",
    "s3 = boto3.resource('s3')\n",
    "try:\n",
    "    if  my_region == 'us-east-1':\n",
    "      s3.create_bucket(Bucket=bucket_name)\n",
    "    else: \n",
    "      s3.create_bucket(Bucket=bucket_name, CreateBucketConfiguration={ 'LocationConstraint': my_region })\n",
    "    print('S3 bucket created successfully')\n",
    "except Exception as e:\n",
    "    print('S3 error: ',e)"
   ]
  },
  {
   "cell_type": "markdown",
   "id": "a1443540",
   "metadata": {},
   "source": [
    "The part until now is equal to the [tutorial](https://aws.amazon.com/it/getting-started/hands-on/build-train-deploy-machine-learning-model-sagemaker/)."
   ]
  },
  {
   "cell_type": "code",
   "execution_count": 3,
   "id": "17e5b59c",
   "metadata": {},
   "outputs": [
    {
     "name": "stdout",
     "output_type": "stream",
     "text": [
      "Success: Data loaded into dataframe.\n"
     ]
    }
   ],
   "source": [
    "try:\n",
    "  urllib.request.urlretrieve(\"https://leonardo-michelazzo.github.io/LLama-AI/categorizzatore/Armani.csv\", \"./products.csv\")\n",
    "except Exception as e:\n",
    "  print('Data load error: ',e)\n",
    "\n",
    "try:\n",
    "  model_data = pd.read_csv('./products.csv') # Changed this\n",
    "  print('Success: Data loaded into dataframe.')\n",
    "except Exception as e:\n",
    "    print('Data load error: ',e)"
   ]
  },
  {
   "cell_type": "markdown",
   "id": "910fc2eb",
   "metadata": {},
   "source": [
    "Now that we have loaded into model_data the CSV..."
   ]
  },
  {
   "cell_type": "code",
   "execution_count": 4,
   "id": "c09065c8",
   "metadata": {},
   "outputs": [
    {
     "name": "stdout",
     "output_type": "stream",
     "text": [
      "    0  1  0.1  1.1  0.2  1.2  0.3  1.3\n",
      "0   0  0    0    0    0    3   43    3\n",
      "1   0  1    1    0    0    3   44    1\n",
      "2   0  1    2    1    0    3   42    3\n",
      "3   0  7    3    2    0    0   38    1\n",
      "4   0  3    4    3    1    4   43    1\n",
      "5   0  0    2    1    0    3   43    5\n",
      "6   0  6   14    2    0    0   38    1\n",
      "7   0  6    4    4    1    4   38    1\n",
      "8   0  6    4    5    2    7   38    1\n",
      "9   0  6    4   13    0    0   38    1\n",
      "10  0  0    8    6    1    1   43    5\n",
      "11  0  1    8    7    1    8   46    1\n",
      "12  0  7    4    2    1    0   39    1\n",
      "13  0  3    5   12    1    2   41    6\n",
      "14  0  7    9    2    1    0   39    1\n",
      "15  0  7    9    2    1    6   38    1\n",
      "16  0  3    0    8    1    5   43    1\n",
      "17  0  6    6    8    1    5   39    1\n",
      "18  0  5    0    9    0    0   43    0\n",
      "19  0  1   10    9    0    0   43    1\n",
      "20  0  0    0    0    0    0   45    3\n",
      "21  1  0    3    9    0    0   51    3\n",
      "22  1  1    3    9    0    0   51    1\n",
      "23  1  0    0    9    0    0   50    3\n",
      "24  1  1    0    9    0    0   48    1\n",
      "25  1  0    8    8    0    0   52    4\n",
      "26  1  1    8    8    0    0   52    2\n",
      "27  1  2    0    9    0    0   41    1\n",
      "28  1  2    0    1    0    0   41    2\n",
      "29  1  2    2    1    0    0   40    1\n",
      "30  1  1    7    7    0    0   51    1\n",
      "31  1  0    2   10    0    0   51    3\n",
      "32  1  1    2   10    0    0   51    2\n",
      "33  1  0    5   11    0    0   51    3\n",
      "34  1  2    5   11    0    0   52    1\n",
      "35  1  2    0    8    0    0   40    1\n",
      "36  1  1    5   11    0    0   53    1\n",
      "37  1  0    8   11    0    0   50    5\n",
      "38  1  1    8   11    0    0   50    2\n",
      "39  1  1    3    9    0    0   51    1\n",
      "40  1  3    4    7    0    0   52    4\n",
      "41  1  2    3    9    1    3   40    0\n",
      "42  1  3    4    7    1    4   51    3\n",
      "43  1  0    7    8    1    3   49    4\n",
      "44  1  0    2    0    1    9   51    4\n",
      "45  1  4    0    8    0    0   51    3\n",
      "46  1  1    0    8    0    0   51    1\n",
      "47  1  2    2   10    0    0   51    3\n",
      "48  1  0    3    1    1   10   52    3\n",
      "49  1  5    0    9    0    0   53    0\n",
      "<class 'pandas.core.frame.DataFrame'>\n"
     ]
    }
   ],
   "source": [
    "print(model_data) # ...and after a bit of debugging...\n",
    "print(type(model_data)) # ...and compensation of the absurd leak of documentation..."
   ]
  },
  {
   "cell_type": "markdown",
   "id": "d717b6f3",
   "metadata": {},
   "source": [
    "...we start splitting data into the data for training (in this case 70% of the total) an data for testing (the rest)."
   ]
  },
  {
   "cell_type": "code",
   "execution_count": 5,
   "id": "f99c0088",
   "metadata": {},
   "outputs": [
    {
     "name": "stdout",
     "output_type": "stream",
     "text": [
      "(35, 8) (15, 8)\n"
     ]
    }
   ],
   "source": [
    "train_data, test_data = np.split(model_data.sample(frac=1, random_state=1729), [int(0.7 * len(model_data))])\n",
    "print(train_data.shape, test_data.shape)"
   ]
  },
  {
   "cell_type": "markdown",
   "id": "329b8da6",
   "metadata": {},
   "source": [
    "We should first get what [random_state](https://pandas.pydata.org/docs/reference/api/pandas.DataFrame.sample.html) is.\n",
    "Well, it's just a randomizer I guess."
   ]
  },
  {
   "cell_type": "code",
   "execution_count": 6,
   "id": "9092ffaf",
   "metadata": {
    "scrolled": false
   },
   "outputs": [
    {
     "name": "stdout",
     "output_type": "stream",
     "text": [
      "    0  1  0.1  1.1  0.2  1.2  0.3  1.3\n",
      "23  1  0    0    9    0    0   50    3\n",
      "32  1  1    2   10    0    0   51    2\n",
      "16  0  3    0    8    1    5   43    1\n",
      "42  1  3    4    7    1    4   51    3\n",
      "30  1  1    7    7    0    0   51    1\n",
      "14  0  7    9    2    1    0   39    1\n",
      "43  1  0    7    8    1    3   49    4\n",
      "17  0  6    6    8    1    5   39    1\n",
      "40  1  3    4    7    0    0   52    4\n",
      "15  0  7    9    2    1    6   38    1\n",
      "20  0  0    0    0    0    0   45    3\n",
      "44  1  0    2    0    1    9   51    4\n",
      "8   0  6    4    5    2    7   38    1\n",
      "2   0  1    2    1    0    3   42    3\n",
      "31  1  0    2   10    0    0   51    3\n",
      "7   0  6    4    4    1    4   38    1\n",
      "6   0  6   14    2    0    0   38    1\n",
      "34  1  2    5   11    0    0   52    1\n",
      "28  1  2    0    1    0    0   41    2\n",
      "4   0  3    4    3    1    4   43    1\n",
      "18  0  5    0    9    0    0   43    0\n",
      "5   0  0    2    1    0    3   43    5\n",
      "24  1  1    0    9    0    0   48    1\n",
      "45  1  4    0    8    0    0   51    3\n",
      "41  1  2    3    9    1    3   40    0\n",
      "46  1  1    0    8    0    0   51    1\n",
      "10  0  0    8    6    1    1   43    5\n",
      "48  1  0    3    1    1   10   52    3\n",
      "0   0  0    0    0    0    3   43    3\n",
      "11  0  1    8    7    1    8   46    1\n",
      "47  1  2    2   10    0    0   51    3\n",
      "26  1  1    8    8    0    0   52    2\n",
      "33  1  0    5   11    0    0   51    3\n",
      "12  0  7    4    2    1    0   39    1\n",
      "39  1  1    3    9    0    0   51    1\n",
      "    0  1  0.1  1.1  0.2  1.2  0.3  1.3\n",
      "22  1  1    3    9    0    0   51    1\n",
      "19  0  1   10    9    0    0   43    1\n",
      "29  1  2    2    1    0    0   40    1\n",
      "9   0  6    4   13    0    0   38    1\n",
      "36  1  1    5   11    0    0   53    1\n",
      "27  1  2    0    9    0    0   41    1\n",
      "1   0  1    1    0    0    3   44    1\n",
      "35  1  2    0    8    0    0   40    1\n",
      "25  1  0    8    8    0    0   52    4\n",
      "49  1  5    0    9    0    0   53    0\n",
      "3   0  7    3    2    0    0   38    1\n",
      "21  1  0    3    9    0    0   51    3\n",
      "37  1  0    8   11    0    0   50    5\n",
      "38  1  1    8   11    0    0   50    2\n",
      "13  0  3    5   12    1    2   41    6\n"
     ]
    }
   ],
   "source": [
    "print(train_data)\n",
    "print(test_data)"
   ]
  },
  {
   "cell_type": "code",
   "execution_count": 7,
   "id": "66f6587f",
   "metadata": {},
   "outputs": [],
   "source": [
    "train_data.to_csv(\n",
    "    'train.csv',\n",
    "    index=False,\n",
    "    header=True\n",
    ")\n",
    "boto3.Session().resource('s3').Bucket(bucket_name).Object(\n",
    "    os.path.join(\n",
    "        prefix, 'train/train.csv'\n",
    "    )\n",
    ").upload_file('train.csv')\n",
    "s3_input_train = sagemaker.inputs.TrainingInput(\n",
    "    s3_data=f's3://{bucket_name}/{prefix}/train',\n",
    "    content_type='csv'\n",
    ")"
   ]
  },
  {
   "cell_type": "code",
   "execution_count": 8,
   "id": "383f6543",
   "metadata": {},
   "outputs": [],
   "source": [
    "sess = sagemaker.Session()\n",
    "xgb = sagemaker.estimator.Estimator(\n",
    "    xgboost_container,role, instance_count=1,\n",
    "    instance_type='ml.m5.4xlarge',\n",
    "    output_path=f's3://{bucket_name}/{prefix}/output',\n",
    "    sagemaker_session=sess\n",
    ")\n",
    "xgb.set_hyperparameters(\n",
    "    max_depth=5,eta=0.2,gamma=4,\n",
    "    min_child_weight=6,subsample=0.8,\n",
    "    silent=0,objective='binary:logistic',\n",
    "    num_round=100\n",
    ")"
   ]
  },
  {
   "cell_type": "code",
   "execution_count": 9,
   "id": "e78971ca",
   "metadata": {},
   "outputs": [
    {
     "name": "stdout",
     "output_type": "stream",
     "text": [
      "<sagemaker.inputs.TrainingInput object at 0x7fa461585420>\n"
     ]
    }
   ],
   "source": [
    "print(s3_input_train)"
   ]
  },
  {
   "cell_type": "code",
   "execution_count": 10,
   "id": "f24698ed",
   "metadata": {
    "scrolled": false
   },
   "outputs": [
    {
     "name": "stderr",
     "output_type": "stream",
     "text": [
      "INFO:sagemaker:Creating training-job with name: xgboost-2023-06-23-08-58-15-423\n"
     ]
    },
    {
     "name": "stdout",
     "output_type": "stream",
     "text": [
      "2023-06-23 08:58:15 Starting - Starting the training job...\n",
      "2023-06-23 08:58:30 Starting - Preparing the instances for training......\n",
      "2023-06-23 08:59:22 Downloading - Downloading input data...\n",
      "2023-06-23 09:00:03 Training - Training image download completed. Training in progress..\u001b[34mArguments: train\u001b[0m\n",
      "\u001b[34m[2023-06-23:09:00:21:INFO] Running standalone xgboost training.\u001b[0m\n",
      "\u001b[34m[2023-06-23:09:00:21:INFO] Path /opt/ml/input/data/validation does not exist!\u001b[0m\n",
      "\u001b[34m[2023-06-23:09:00:21:INFO] File size need to be processed in the node: 0.0mb. Available memory size in the node: 55596.07mb\u001b[0m\n",
      "\u001b[34m[2023-06-23:09:00:21:INFO] Determined delimiter of CSV input is ','\u001b[0m\n",
      "\u001b[34m[09:00:21] S3DistributionType set as FullyReplicated\u001b[0m\n",
      "\u001b[34m[09:00:21] 36x7 matrix with 252 entries loaded from /opt/ml/input/data/train?format=csv&label_column=0&delimiter=,\u001b[0m\n",
      "\u001b[34m[09:00:21] src/tree/updater_prune.cc:74: tree pruning end, 1 roots, 0 extra nodes, 0 pruned nodes, max_depth=0\u001b[0m\n",
      "\u001b[34m[0]#011train-error:0.472222\u001b[0m\n",
      "\u001b[34m[09:00:21] src/tree/updater_prune.cc:74: tree pruning end, 1 roots, 0 extra nodes, 0 pruned nodes, max_depth=0\u001b[0m\n",
      "\u001b[34m[1]#011train-error:0.472222\u001b[0m\n",
      "\u001b[34m[09:00:21] src/tree/updater_prune.cc:74: tree pruning end, 1 roots, 0 extra nodes, 0 pruned nodes, max_depth=0\u001b[0m\n",
      "\u001b[34m[2]#011train-error:0.472222\u001b[0m\n",
      "\u001b[34m[09:00:21] src/tree/updater_prune.cc:74: tree pruning end, 1 roots, 0 extra nodes, 0 pruned nodes, max_depth=0\u001b[0m\n",
      "\u001b[34m[3]#011train-error:0.472222\u001b[0m\n",
      "\u001b[34m[09:00:21] src/tree/updater_prune.cc:74: tree pruning end, 1 roots, 0 extra nodes, 0 pruned nodes, max_depth=0\u001b[0m\n",
      "\u001b[34m[4]#011train-error:0.472222\u001b[0m\n",
      "\u001b[34m[09:00:21] src/tree/updater_prune.cc:74: tree pruning end, 1 roots, 0 extra nodes, 0 pruned nodes, max_depth=0\u001b[0m\n",
      "\u001b[34m[5]#011train-error:0.472222\u001b[0m\n",
      "\u001b[34m[09:00:21] src/tree/updater_prune.cc:74: tree pruning end, 1 roots, 0 extra nodes, 0 pruned nodes, max_depth=0\u001b[0m\n",
      "\u001b[34m[6]#011train-error:0.472222\u001b[0m\n",
      "\u001b[34m[09:00:21] src/tree/updater_prune.cc:74: tree pruning end, 1 roots, 0 extra nodes, 0 pruned nodes, max_depth=0\u001b[0m\n",
      "\u001b[34m[7]#011train-error:0.472222\u001b[0m\n",
      "\u001b[34m[09:00:21] src/tree/updater_prune.cc:74: tree pruning end, 1 roots, 0 extra nodes, 0 pruned nodes, max_depth=0\u001b[0m\n",
      "\u001b[34m[8]#011train-error:0.472222\u001b[0m\n",
      "\u001b[34m[09:00:21] src/tree/updater_prune.cc:74: tree pruning end, 1 roots, 0 extra nodes, 0 pruned nodes, max_depth=0\u001b[0m\n",
      "\u001b[34m[9]#011train-error:0.472222\u001b[0m\n",
      "\u001b[34m[09:00:21] src/tree/updater_prune.cc:74: tree pruning end, 1 roots, 0 extra nodes, 0 pruned nodes, max_depth=0\u001b[0m\n",
      "\u001b[34m[10]#011train-error:0.472222\u001b[0m\n",
      "\u001b[34m[09:00:21] src/tree/updater_prune.cc:74: tree pruning end, 1 roots, 0 extra nodes, 0 pruned nodes, max_depth=0\u001b[0m\n",
      "\u001b[34m[11]#011train-error:0.472222\u001b[0m\n",
      "\u001b[34m[09:00:21] src/tree/updater_prune.cc:74: tree pruning end, 1 roots, 0 extra nodes, 0 pruned nodes, max_depth=0\u001b[0m\n",
      "\u001b[34m[12]#011train-error:0.472222\u001b[0m\n",
      "\u001b[34m[09:00:21] src/tree/updater_prune.cc:74: tree pruning end, 1 roots, 0 extra nodes, 0 pruned nodes, max_depth=0\u001b[0m\n",
      "\u001b[34m[13]#011train-error:0.472222\u001b[0m\n",
      "\u001b[34m[09:00:21] src/tree/updater_prune.cc:74: tree pruning end, 1 roots, 0 extra nodes, 0 pruned nodes, max_depth=0\u001b[0m\n",
      "\u001b[34m[14]#011train-error:0.472222\u001b[0m\n",
      "\u001b[34m[09:00:21] src/tree/updater_prune.cc:74: tree pruning end, 1 roots, 0 extra nodes, 0 pruned nodes, max_depth=0\u001b[0m\n",
      "\u001b[34m[15]#011train-error:0.472222\u001b[0m\n",
      "\u001b[34m[09:00:21] src/tree/updater_prune.cc:74: tree pruning end, 1 roots, 0 extra nodes, 0 pruned nodes, max_depth=0\u001b[0m\n",
      "\u001b[34m[16]#011train-error:0.472222\u001b[0m\n",
      "\u001b[34m[09:00:21] src/tree/updater_prune.cc:74: tree pruning end, 1 roots, 0 extra nodes, 0 pruned nodes, max_depth=0\u001b[0m\n",
      "\u001b[34m[17]#011train-error:0.472222\u001b[0m\n",
      "\u001b[34m[09:00:21] src/tree/updater_prune.cc:74: tree pruning end, 1 roots, 0 extra nodes, 0 pruned nodes, max_depth=0\u001b[0m\n",
      "\u001b[34m[18]#011train-error:0.472222\u001b[0m\n",
      "\u001b[34m[09:00:21] src/tree/updater_prune.cc:74: tree pruning end, 1 roots, 0 extra nodes, 0 pruned nodes, max_depth=0\u001b[0m\n",
      "\u001b[34m[19]#011train-error:0.472222\u001b[0m\n",
      "\u001b[34m[09:00:21] src/tree/updater_prune.cc:74: tree pruning end, 1 roots, 0 extra nodes, 0 pruned nodes, max_depth=0\u001b[0m\n",
      "\u001b[34m[20]#011train-error:0.472222\u001b[0m\n",
      "\u001b[34m[09:00:21] src/tree/updater_prune.cc:74: tree pruning end, 1 roots, 0 extra nodes, 0 pruned nodes, max_depth=0\u001b[0m\n",
      "\u001b[34m[21]#011train-error:0.472222\u001b[0m\n",
      "\u001b[34m[09:00:21] src/tree/updater_prune.cc:74: tree pruning end, 1 roots, 0 extra nodes, 0 pruned nodes, max_depth=0\u001b[0m\n",
      "\u001b[34m[22]#011train-error:0.472222\u001b[0m\n",
      "\u001b[34m[09:00:21] src/tree/updater_prune.cc:74: tree pruning end, 1 roots, 0 extra nodes, 0 pruned nodes, max_depth=0\u001b[0m\n",
      "\u001b[34m[23]#011train-error:0.472222\u001b[0m\n",
      "\u001b[34m[09:00:21] src/tree/updater_prune.cc:74: tree pruning end, 1 roots, 0 extra nodes, 0 pruned nodes, max_depth=0\u001b[0m\n",
      "\u001b[34m[24]#011train-error:0.472222\u001b[0m\n",
      "\u001b[34m[09:00:21] src/tree/updater_prune.cc:74: tree pruning end, 1 roots, 0 extra nodes, 0 pruned nodes, max_depth=0\u001b[0m\n",
      "\u001b[34m[25]#011train-error:0.472222\u001b[0m\n",
      "\u001b[34m[09:00:21] src/tree/updater_prune.cc:74: tree pruning end, 1 roots, 0 extra nodes, 0 pruned nodes, max_depth=0\u001b[0m\n",
      "\u001b[34m[26]#011train-error:0.472222\u001b[0m\n",
      "\u001b[34m[09:00:21] src/tree/updater_prune.cc:74: tree pruning end, 1 roots, 0 extra nodes, 0 pruned nodes, max_depth=0\u001b[0m\n",
      "\u001b[34m[27]#011train-error:0.472222\u001b[0m\n",
      "\u001b[34m[09:00:21] src/tree/updater_prune.cc:74: tree pruning end, 1 roots, 0 extra nodes, 0 pruned nodes, max_depth=0\u001b[0m\n",
      "\u001b[34m[28]#011train-error:0.472222\u001b[0m\n",
      "\u001b[34m[09:00:21] src/tree/updater_prune.cc:74: tree pruning end, 1 roots, 0 extra nodes, 0 pruned nodes, max_depth=0\u001b[0m\n",
      "\u001b[34m[29]#011train-error:0.472222\u001b[0m\n",
      "\u001b[34m[09:00:21] src/tree/updater_prune.cc:74: tree pruning end, 1 roots, 0 extra nodes, 0 pruned nodes, max_depth=0\u001b[0m\n",
      "\u001b[34m[30]#011train-error:0.472222\u001b[0m\n",
      "\u001b[34m[09:00:21] src/tree/updater_prune.cc:74: tree pruning end, 1 roots, 0 extra nodes, 0 pruned nodes, max_depth=0\u001b[0m\n",
      "\u001b[34m[31]#011train-error:0.472222\u001b[0m\n",
      "\u001b[34m[09:00:21] src/tree/updater_prune.cc:74: tree pruning end, 1 roots, 0 extra nodes, 0 pruned nodes, max_depth=0\u001b[0m\n",
      "\u001b[34m[32]#011train-error:0.472222\u001b[0m\n",
      "\u001b[34m[09:00:21] src/tree/updater_prune.cc:74: tree pruning end, 1 roots, 0 extra nodes, 0 pruned nodes, max_depth=0\u001b[0m\n",
      "\u001b[34m[33]#011train-error:0.472222\u001b[0m\n",
      "\u001b[34m[09:00:21] src/tree/updater_prune.cc:74: tree pruning end, 1 roots, 0 extra nodes, 0 pruned nodes, max_depth=0\u001b[0m\n",
      "\u001b[34m[34]#011train-error:0.472222\u001b[0m\n",
      "\u001b[34m[09:00:21] src/tree/updater_prune.cc:74: tree pruning end, 1 roots, 0 extra nodes, 0 pruned nodes, max_depth=0\u001b[0m\n",
      "\u001b[34m[35]#011train-error:0.472222\u001b[0m\n",
      "\u001b[34m[09:00:21] src/tree/updater_prune.cc:74: tree pruning end, 1 roots, 0 extra nodes, 0 pruned nodes, max_depth=0\u001b[0m\n",
      "\u001b[34m[36]#011train-error:0.472222\u001b[0m\n",
      "\u001b[34m[09:00:21] src/tree/updater_prune.cc:74: tree pruning end, 1 roots, 0 extra nodes, 0 pruned nodes, max_depth=0\u001b[0m\n",
      "\u001b[34m[37]#011train-error:0.472222\u001b[0m\n",
      "\u001b[34m[09:00:21] src/tree/updater_prune.cc:74: tree pruning end, 1 roots, 0 extra nodes, 0 pruned nodes, max_depth=0\u001b[0m\n",
      "\u001b[34m[38]#011train-error:0.472222\u001b[0m\n",
      "\u001b[34m[09:00:21] src/tree/updater_prune.cc:74: tree pruning end, 1 roots, 0 extra nodes, 0 pruned nodes, max_depth=0\u001b[0m\n",
      "\u001b[34m[39]#011train-error:0.472222\u001b[0m\n",
      "\u001b[34m[09:00:21] src/tree/updater_prune.cc:74: tree pruning end, 1 roots, 0 extra nodes, 0 pruned nodes, max_depth=0\u001b[0m\n",
      "\u001b[34m[40]#011train-error:0.472222\u001b[0m\n",
      "\u001b[34m[09:00:21] src/tree/updater_prune.cc:74: tree pruning end, 1 roots, 0 extra nodes, 0 pruned nodes, max_depth=0\u001b[0m\n",
      "\u001b[34m[41]#011train-error:0.472222\u001b[0m\n",
      "\u001b[34m[09:00:21] src/tree/updater_prune.cc:74: tree pruning end, 1 roots, 0 extra nodes, 0 pruned nodes, max_depth=0\u001b[0m\n",
      "\u001b[34m[42]#011train-error:0.472222\u001b[0m\n",
      "\u001b[34m[09:00:21] src/tree/updater_prune.cc:74: tree pruning end, 1 roots, 0 extra nodes, 0 pruned nodes, max_depth=0\u001b[0m\n",
      "\u001b[34m[43]#011train-error:0.472222\u001b[0m\n",
      "\u001b[34m[09:00:21] src/tree/updater_prune.cc:74: tree pruning end, 1 roots, 0 extra nodes, 0 pruned nodes, max_depth=0\u001b[0m\n",
      "\u001b[34m[44]#011train-error:0.472222\u001b[0m\n",
      "\u001b[34m[09:00:21] src/tree/updater_prune.cc:74: tree pruning end, 1 roots, 0 extra nodes, 0 pruned nodes, max_depth=0\u001b[0m\n",
      "\u001b[34m[45]#011train-error:0.472222\u001b[0m\n",
      "\u001b[34m[09:00:21] src/tree/updater_prune.cc:74: tree pruning end, 1 roots, 0 extra nodes, 0 pruned nodes, max_depth=0\u001b[0m\n",
      "\u001b[34m[46]#011train-error:0.472222\u001b[0m\n",
      "\u001b[34m[09:00:21] src/tree/updater_prune.cc:74: tree pruning end, 1 roots, 0 extra nodes, 0 pruned nodes, max_depth=0\u001b[0m\n",
      "\u001b[34m[47]#011train-error:0.472222\u001b[0m\n",
      "\u001b[34m[09:00:21] src/tree/updater_prune.cc:74: tree pruning end, 1 roots, 0 extra nodes, 0 pruned nodes, max_depth=0\u001b[0m\n",
      "\u001b[34m[48]#011train-error:0.472222\u001b[0m\n",
      "\u001b[34m[09:00:21] src/tree/updater_prune.cc:74: tree pruning end, 1 roots, 0 extra nodes, 0 pruned nodes, max_depth=0\u001b[0m\n",
      "\u001b[34m[49]#011train-error:0.472222\u001b[0m\n",
      "\u001b[34m[09:00:21] src/tree/updater_prune.cc:74: tree pruning end, 1 roots, 0 extra nodes, 0 pruned nodes, max_depth=0\u001b[0m\n",
      "\u001b[34m[50]#011train-error:0.472222\u001b[0m\n",
      "\u001b[34m[09:00:21] src/tree/updater_prune.cc:74: tree pruning end, 1 roots, 0 extra nodes, 0 pruned nodes, max_depth=0\u001b[0m\n",
      "\u001b[34m[51]#011train-error:0.472222\u001b[0m\n",
      "\u001b[34m[09:00:21] src/tree/updater_prune.cc:74: tree pruning end, 1 roots, 0 extra nodes, 0 pruned nodes, max_depth=0\u001b[0m\n",
      "\u001b[34m[52]#011train-error:0.472222\u001b[0m\n",
      "\u001b[34m[09:00:21] src/tree/updater_prune.cc:74: tree pruning end, 1 roots, 0 extra nodes, 0 pruned nodes, max_depth=0\u001b[0m\n",
      "\u001b[34m[53]#011train-error:0.472222\u001b[0m\n",
      "\u001b[34m[09:00:21] src/tree/updater_prune.cc:74: tree pruning end, 1 roots, 0 extra nodes, 0 pruned nodes, max_depth=0\u001b[0m\n",
      "\u001b[34m[54]#011train-error:0.472222\u001b[0m\n",
      "\u001b[34m[09:00:21] src/tree/updater_prune.cc:74: tree pruning end, 1 roots, 0 extra nodes, 0 pruned nodes, max_depth=0\u001b[0m\n",
      "\u001b[34m[55]#011train-error:0.472222\u001b[0m\n",
      "\u001b[34m[09:00:21] src/tree/updater_prune.cc:74: tree pruning end, 1 roots, 0 extra nodes, 0 pruned nodes, max_depth=0\u001b[0m\n",
      "\u001b[34m[56]#011train-error:0.472222\u001b[0m\n",
      "\u001b[34m[09:00:21] src/tree/updater_prune.cc:74: tree pruning end, 1 roots, 0 extra nodes, 0 pruned nodes, max_depth=0\u001b[0m\n",
      "\u001b[34m[57]#011train-error:0.472222\u001b[0m\n",
      "\u001b[34m[09:00:21] src/tree/updater_prune.cc:74: tree pruning end, 1 roots, 0 extra nodes, 0 pruned nodes, max_depth=0\u001b[0m\n",
      "\u001b[34m[58]#011train-error:0.472222\u001b[0m\n",
      "\u001b[34m[09:00:21] src/tree/updater_prune.cc:74: tree pruning end, 1 roots, 0 extra nodes, 0 pruned nodes, max_depth=0\u001b[0m\n",
      "\u001b[34m[59]#011train-error:0.472222\u001b[0m\n",
      "\u001b[34m[09:00:21] src/tree/updater_prune.cc:74: tree pruning end, 1 roots, 0 extra nodes, 0 pruned nodes, max_depth=0\u001b[0m\n",
      "\u001b[34m[60]#011train-error:0.472222\u001b[0m\n",
      "\u001b[34m[09:00:21] src/tree/updater_prune.cc:74: tree pruning end, 1 roots, 0 extra nodes, 0 pruned nodes, max_depth=0\u001b[0m\n",
      "\u001b[34m[61]#011train-error:0.472222\u001b[0m\n",
      "\u001b[34m[09:00:21] src/tree/updater_prune.cc:74: tree pruning end, 1 roots, 0 extra nodes, 0 pruned nodes, max_depth=0\u001b[0m\n",
      "\u001b[34m[62]#011train-error:0.472222\u001b[0m\n",
      "\u001b[34m[09:00:21] src/tree/updater_prune.cc:74: tree pruning end, 1 roots, 0 extra nodes, 0 pruned nodes, max_depth=0\u001b[0m\n",
      "\u001b[34m[63]#011train-error:0.472222\u001b[0m\n",
      "\u001b[34m[09:00:21] src/tree/updater_prune.cc:74: tree pruning end, 1 roots, 0 extra nodes, 0 pruned nodes, max_depth=0\u001b[0m\n",
      "\u001b[34m[64]#011train-error:0.472222\u001b[0m\n",
      "\u001b[34m[09:00:21] src/tree/updater_prune.cc:74: tree pruning end, 1 roots, 0 extra nodes, 0 pruned nodes, max_depth=0\u001b[0m\n",
      "\u001b[34m[65]#011train-error:0.472222\u001b[0m\n",
      "\u001b[34m[09:00:21] src/tree/updater_prune.cc:74: tree pruning end, 1 roots, 0 extra nodes, 0 pruned nodes, max_depth=0\u001b[0m\n",
      "\u001b[34m[66]#011train-error:0.472222\u001b[0m\n",
      "\u001b[34m[09:00:21] src/tree/updater_prune.cc:74: tree pruning end, 1 roots, 0 extra nodes, 0 pruned nodes, max_depth=0\u001b[0m\n",
      "\u001b[34m[67]#011train-error:0.472222\u001b[0m\n",
      "\u001b[34m[09:00:21] src/tree/updater_prune.cc:74: tree pruning end, 1 roots, 0 extra nodes, 0 pruned nodes, max_depth=0\u001b[0m\n",
      "\u001b[34m[68]#011train-error:0.472222\u001b[0m\n",
      "\u001b[34m[09:00:21] src/tree/updater_prune.cc:74: tree pruning end, 1 roots, 0 extra nodes, 0 pruned nodes, max_depth=0\u001b[0m\n",
      "\u001b[34m[69]#011train-error:0.472222\u001b[0m\n",
      "\u001b[34m[09:00:21] src/tree/updater_prune.cc:74: tree pruning end, 1 roots, 0 extra nodes, 0 pruned nodes, max_depth=0\u001b[0m\n",
      "\u001b[34m[70]#011train-error:0.472222\u001b[0m\n",
      "\u001b[34m[09:00:21] src/tree/updater_prune.cc:74: tree pruning end, 1 roots, 0 extra nodes, 0 pruned nodes, max_depth=0\u001b[0m\n",
      "\u001b[34m[71]#011train-error:0.472222\u001b[0m\n",
      "\u001b[34m[09:00:21] src/tree/updater_prune.cc:74: tree pruning end, 1 roots, 0 extra nodes, 0 pruned nodes, max_depth=0\u001b[0m\n",
      "\u001b[34m[72]#011train-error:0.472222\u001b[0m\n",
      "\u001b[34m[09:00:21] src/tree/updater_prune.cc:74: tree pruning end, 1 roots, 0 extra nodes, 0 pruned nodes, max_depth=0\u001b[0m\n",
      "\u001b[34m[73]#011train-error:0.472222\u001b[0m\n",
      "\u001b[34m[09:00:21] src/tree/updater_prune.cc:74: tree pruning end, 1 roots, 0 extra nodes, 0 pruned nodes, max_depth=0\u001b[0m\n",
      "\u001b[34m[74]#011train-error:0.472222\u001b[0m\n",
      "\u001b[34m[09:00:21] src/tree/updater_prune.cc:74: tree pruning end, 1 roots, 0 extra nodes, 0 pruned nodes, max_depth=0\u001b[0m\n",
      "\u001b[34m[75]#011train-error:0.472222\u001b[0m\n",
      "\u001b[34m[09:00:21] src/tree/updater_prune.cc:74: tree pruning end, 1 roots, 0 extra nodes, 0 pruned nodes, max_depth=0\u001b[0m\n",
      "\u001b[34m[76]#011train-error:0.472222\u001b[0m\n",
      "\u001b[34m[09:00:21] src/tree/updater_prune.cc:74: tree pruning end, 1 roots, 0 extra nodes, 0 pruned nodes, max_depth=0\u001b[0m\n",
      "\u001b[34m[77]#011train-error:0.472222\u001b[0m\n",
      "\u001b[34m[09:00:21] src/tree/updater_prune.cc:74: tree pruning end, 1 roots, 0 extra nodes, 0 pruned nodes, max_depth=0\u001b[0m\n",
      "\u001b[34m[78]#011train-error:0.472222\u001b[0m\n",
      "\u001b[34m[09:00:21] src/tree/updater_prune.cc:74: tree pruning end, 1 roots, 0 extra nodes, 0 pruned nodes, max_depth=0\u001b[0m\n",
      "\u001b[34m[79]#011train-error:0.472222\u001b[0m\n",
      "\u001b[34m[09:00:21] src/tree/updater_prune.cc:74: tree pruning end, 1 roots, 0 extra nodes, 0 pruned nodes, max_depth=0\u001b[0m\n",
      "\u001b[34m[80]#011train-error:0.472222\u001b[0m\n",
      "\u001b[34m[09:00:21] src/tree/updater_prune.cc:74: tree pruning end, 1 roots, 0 extra nodes, 0 pruned nodes, max_depth=0\u001b[0m\n",
      "\u001b[34m[81]#011train-error:0.472222\u001b[0m\n",
      "\u001b[34m[09:00:21] src/tree/updater_prune.cc:74: tree pruning end, 1 roots, 0 extra nodes, 0 pruned nodes, max_depth=0\u001b[0m\n",
      "\u001b[34m[82]#011train-error:0.472222\u001b[0m\n",
      "\u001b[34m[09:00:21] src/tree/updater_prune.cc:74: tree pruning end, 1 roots, 0 extra nodes, 0 pruned nodes, max_depth=0\u001b[0m\n",
      "\u001b[34m[83]#011train-error:0.472222\u001b[0m\n",
      "\u001b[34m[09:00:21] src/tree/updater_prune.cc:74: tree pruning end, 1 roots, 0 extra nodes, 0 pruned nodes, max_depth=0\u001b[0m\n",
      "\u001b[34m[84]#011train-error:0.472222\u001b[0m\n",
      "\u001b[34m[09:00:21] src/tree/updater_prune.cc:74: tree pruning end, 1 roots, 0 extra nodes, 0 pruned nodes, max_depth=0\u001b[0m\n",
      "\u001b[34m[85]#011train-error:0.472222\u001b[0m\n",
      "\u001b[34m[09:00:21] src/tree/updater_prune.cc:74: tree pruning end, 1 roots, 0 extra nodes, 0 pruned nodes, max_depth=0\u001b[0m\n",
      "\u001b[34m[86]#011train-error:0.472222\u001b[0m\n",
      "\u001b[34m[09:00:21] src/tree/updater_prune.cc:74: tree pruning end, 1 roots, 0 extra nodes, 0 pruned nodes, max_depth=0\u001b[0m\n",
      "\u001b[34m[87]#011train-error:0.472222\u001b[0m\n",
      "\u001b[34m[09:00:21] src/tree/updater_prune.cc:74: tree pruning end, 1 roots, 0 extra nodes, 0 pruned nodes, max_depth=0\u001b[0m\n",
      "\u001b[34m[88]#011train-error:0.472222\u001b[0m\n",
      "\u001b[34m[09:00:21] src/tree/updater_prune.cc:74: tree pruning end, 1 roots, 0 extra nodes, 0 pruned nodes, max_depth=0\u001b[0m\n",
      "\u001b[34m[89]#011train-error:0.472222\u001b[0m\n",
      "\u001b[34m[09:00:21] src/tree/updater_prune.cc:74: tree pruning end, 1 roots, 0 extra nodes, 0 pruned nodes, max_depth=0\u001b[0m\n",
      "\u001b[34m[90]#011train-error:0.472222\u001b[0m\n",
      "\u001b[34m[09:00:21] src/tree/updater_prune.cc:74: tree pruning end, 1 roots, 0 extra nodes, 0 pruned nodes, max_depth=0\u001b[0m\n",
      "\u001b[34m[91]#011train-error:0.472222\u001b[0m\n",
      "\u001b[34m[09:00:21] src/tree/updater_prune.cc:74: tree pruning end, 1 roots, 0 extra nodes, 0 pruned nodes, max_depth=0\u001b[0m\n",
      "\u001b[34m[92]#011train-error:0.472222\u001b[0m\n",
      "\u001b[34m[09:00:21] src/tree/updater_prune.cc:74: tree pruning end, 1 roots, 0 extra nodes, 0 pruned nodes, max_depth=0\u001b[0m\n",
      "\u001b[34m[93]#011train-error:0.472222\u001b[0m\n",
      "\u001b[34m[09:00:21] src/tree/updater_prune.cc:74: tree pruning end, 1 roots, 0 extra nodes, 0 pruned nodes, max_depth=0\u001b[0m\n",
      "\u001b[34m[94]#011train-error:0.472222\u001b[0m\n",
      "\u001b[34m[09:00:21] src/tree/updater_prune.cc:74: tree pruning end, 1 roots, 0 extra nodes, 0 pruned nodes, max_depth=0\u001b[0m\n",
      "\u001b[34m[95]#011train-error:0.472222\u001b[0m\n",
      "\u001b[34m[09:00:21] src/tree/updater_prune.cc:74: tree pruning end, 1 roots, 0 extra nodes, 0 pruned nodes, max_depth=0\u001b[0m\n",
      "\u001b[34m[96]#011train-error:0.472222\u001b[0m\n",
      "\u001b[34m[09:00:21] src/tree/updater_prune.cc:74: tree pruning end, 1 roots, 0 extra nodes, 0 pruned nodes, max_depth=0\u001b[0m\n",
      "\u001b[34m[97]#011train-error:0.472222\u001b[0m\n",
      "\u001b[34m[09:00:21] src/tree/updater_prune.cc:74: tree pruning end, 1 roots, 0 extra nodes, 0 pruned nodes, max_depth=0\u001b[0m\n",
      "\u001b[34m[98]#011train-error:0.472222\u001b[0m\n",
      "\u001b[34m[09:00:21] src/tree/updater_prune.cc:74: tree pruning end, 1 roots, 0 extra nodes, 0 pruned nodes, max_depth=0\u001b[0m\n",
      "\u001b[34m[99]#011train-error:0.472222\u001b[0m\n",
      "\n",
      "2023-06-23 09:00:39 Uploading - Uploading generated training model\n",
      "2023-06-23 09:00:39 Completed - Training job completed\n",
      "Training seconds: 77\n",
      "Billable seconds: 77\n"
     ]
    }
   ],
   "source": [
    "xgb.fit({'train': s3_input_train})"
   ]
  }
 ],
 "metadata": {
  "kernelspec": {
   "display_name": "conda_python3",
   "language": "python",
   "name": "conda_python3"
  },
  "language_info": {
   "codemirror_mode": {
    "name": "ipython",
    "version": 3
   },
   "file_extension": ".py",
   "mimetype": "text/x-python",
   "name": "python",
   "nbconvert_exporter": "python",
   "pygments_lexer": "ipython3",
   "version": "3.10.10"
  }
 },
 "nbformat": 4,
 "nbformat_minor": 5
}
