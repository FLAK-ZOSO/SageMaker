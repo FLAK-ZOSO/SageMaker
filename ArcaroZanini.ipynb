{
 "cells": [
  {
   "cell_type": "code",
   "execution_count": 1,
   "id": "42dd819d",
   "metadata": {},
   "outputs": [
    {
     "name": "stdout",
     "output_type": "stream",
     "text": [
      "Success - the MySageMakerInstance is in the eu-north-1 region. You will use the 669576153137.dkr.ecr.eu-north-1.amazonaws.com/xgboost:latest container for your SageMaker endpoint.\n"
     ]
    }
   ],
   "source": [
    "# import libraries\n",
    "import boto3, re, sys, math, json, os, sagemaker, urllib.request\n",
    "from sagemaker import get_execution_role\n",
    "import numpy as np\n",
    "import pandas as pd\n",
    "import matplotlib.pyplot as plt\n",
    "from IPython.display import Image\n",
    "from IPython.display import display\n",
    "from time import gmtime, strftime\n",
    "\n",
    "# Define IAM role\n",
    "role = get_execution_role()\n",
    "prefix = 'sagemaker/DEMO-xgboost-dm'\n",
    "my_region = boto3.session.Session().region_name # set the region of the instance\n",
    "\n",
    "# this line automatically looks for the XGBoost image URI and builds an XGBoost container.\n",
    "xgboost_container = sagemaker.image_uris.retrieve(\"xgboost\", my_region, \"latest\")\n",
    "\n",
    "print(\"Success - the MySageMakerInstance is in the \" + my_region + \" region. You will use the \" + xgboost_container + \" container for your SageMaker endpoint.\")"
   ]
  },
  {
   "cell_type": "code",
   "execution_count": 3,
   "id": "ced9d6cd",
   "metadata": {},
   "outputs": [
    {
     "name": "stdout",
     "output_type": "stream",
     "text": [
      "S3 bucket created successfully\n"
     ]
    }
   ],
   "source": [
    "bucket_name = 'ginopeppino' # <--- CHANGE THIS VARIABLE TO A UNIQUE NAME FOR YOUR BUCKET\n",
    "s3 = boto3.resource('s3')\n",
    "try:\n",
    "    if  my_region == 'us-east-1':\n",
    "      s3.create_bucket(Bucket=bucket_name)\n",
    "    else: \n",
    "      s3.create_bucket(Bucket=bucket_name, CreateBucketConfiguration={ 'LocationConstraint': my_region })\n",
    "    print('S3 bucket created successfully')\n",
    "except Exception as e:\n",
    "    print('S3 error: ',e)"
   ]
  },
  {
   "cell_type": "code",
   "execution_count": 10,
   "id": "5c5f09bf",
   "metadata": {},
   "outputs": [
    {
     "name": "stdout",
     "output_type": "stream",
     "text": [
      "Success: downloaded bank_clean.csv.\n",
      "Success: Data loaded into dataframe.\n"
     ]
    }
   ],
   "source": [
    "try:\n",
    "  urllib.request.urlretrieve (\"https://leonardo-michelazzo.github.io/LLama-AI/categorizzatore/Armani.csv\", \"prodotti.csv\")\n",
    "  print('Success: downloaded bank_clean.csv.')\n",
    "except Exception as e:\n",
    "  print('Data load error: ',e)\n",
    "\n",
    "try:\n",
    "  model_data = pd.read_csv('./prodotti.csv',index_col=0)\n",
    "  print('Success: Data loaded into dataframe.')\n",
    "except Exception as e:\n",
    "    print('Data load error: ',e)"
   ]
  },
  {
   "cell_type": "code",
   "execution_count": 16,
   "id": "becc4241",
   "metadata": {},
   "outputs": [
    {
     "name": "stdout",
     "output_type": "stream",
     "text": [
      "(35, 13) (15, 13)\n"
     ]
    }
   ],
   "source": [
    "train_data, test_data = np.split(model_data.sample(frac=1, random_state=1729), [int(0.7 * len(model_data))])\n",
    "print(train_data.shape, test_data.shape)"
   ]
  },
  {
   "cell_type": "code",
   "execution_count": 21,
   "id": "97f1af3c",
   "metadata": {},
   "outputs": [],
   "source": [
    "train_data.to_csv('train.csv',index=False,header=True)\n",
    "boto3.Session().resource('s3').Bucket(bucket_name).Object(os.path.join(prefix, 'train/train.csv')).upload_file('train.csv')\n",
    "s3_input_train = sagemaker.inputs.TrainingInput(s3_data='s3://{}/{}/train'.format(bucket_name, prefix), content_type='csv')"
   ]
  },
  {
   "cell_type": "code",
   "execution_count": 25,
   "id": "b7c785c7",
   "metadata": {},
   "outputs": [],
   "source": [
    "sess = sagemaker.Session()\n",
    "xgb = sagemaker.estimator.Estimator(xgboost_container,role, instance_count=1, instance_type='ml.m5.4xlarge',output_path='s3://{}/{}/output'.format(bucket_name, prefix),sagemaker_session=sess)\n",
    "xgb.set_hyperparameters(max_depth=5,eta=0.2,gamma=4,min_child_weight=6,subsample=0.8,silent=0,objective='binary:logistic',num_round=100)"
   ]
  },
  {
   "cell_type": "code",
   "execution_count": 26,
   "id": "ec8a12f6",
   "metadata": {
    "scrolled": true
   },
   "outputs": [
    {
     "name": "stderr",
     "output_type": "stream",
     "text": [
      "INFO:sagemaker:Creating training-job with name: xgboost-2023-06-22-14-16-53-169\n"
     ]
    },
    {
     "name": "stdout",
     "output_type": "stream",
     "text": [
      "2023-06-22 14:16:53 Starting - Starting the training job...\n",
      "2023-06-22 14:17:09 Starting - Preparing the instances for training............\n",
      "2023-06-22 14:18:59 Downloading - Downloading input data...\n",
      "2023-06-22 14:19:30 Training - Training image download completed. Training in progress...\u001b[34mArguments: train\u001b[0m\n",
      "\u001b[34m[2023-06-22:14:19:58:INFO] Running standalone xgboost training.\u001b[0m\n",
      "\u001b[34m[2023-06-22:14:19:58:INFO] Path /opt/ml/input/data/validation does not exist!\u001b[0m\n",
      "\u001b[34m[2023-06-22:14:19:58:INFO] File size need to be processed in the node: 0.03mb. Available memory size in the node: 54915.99mb\u001b[0m\n",
      "\u001b[34m[2023-06-22:14:19:58:INFO] Determined delimiter of CSV input is ','\u001b[0m\n",
      "\u001b[34m[14:19:58] S3DistributionType set as FullyReplicated\u001b[0m\n",
      "\u001b[34m[2023-06-22:14:19:58:ERROR] Customer Error: Failed to load csv data with exception:\u001b[0m\n",
      "\u001b[34mb\"[14:19:58] src/data/csv_parser.h:124: Deduced delimiter ',' is not found in the line. Expected ',' as the delimiter to separate fields.\\n\\nStack trace returned 7 entries:\\n[bt] (0) /usr/local/lib/python3.7/site-packages/xgboost-0.71-py3.7.egg/xgboost/libxgboost.so(dmlc::StackTrace[abi:cxx11]()+0x3b) [0x7f6018326bbb]\\n[bt] (1) /usr/local/lib/python3.7/site-packages/xgboost-0.71-py3.7.egg/xgboost/libxgboost.so(dmlc::LogMessageFatal::~LogMessageFatal()+0x29) [0x7f60183272f9]\\n[bt] (2) /usr/local/lib/python3.7/site-packages/xgboost-0.71-py3.7.egg/xgboost/libxgboost.so(dmlc::data::CSVParser<unsigned int, float>::ParseBlock(char const*, char const*, dmlc::data::RowBlockContainer<unsigned int, float>*)+0x3f9) [0x7f60184e4e99]\\n[bt] (3) /usr/local/lib/python3.7/site-packages/xgboost-0.71-py3.7.egg/xgboost/libxgboost.so(+0x21d823) [0x7f60184ca823]\\n[bt] (4) /opt/amazon/lib/libgomp.so.1(+0x1963f) [0x7f6017e8763f]\\n[bt] (5) /lib64/libpthread.so.0(+0x744b) [0x7f6059f2944b]\\n[bt] (6) /lib64/libc.so.6(clone+0x3f) [0x7f6058f9652f]\\n\\n\"\u001b[0m\n",
      "\u001b[34mTraceback (most recent call last):\n",
      "  File \"/opt/amazon/lib/python3.7/site-packages/sage_xgboost/train_helper.py\", line 143, in get_csv_dmatrix\n",
      "    dmatrix = xgb.DMatrix('{}?format=csv&label_column=0&delimiter={}'.format(files_path, delimiter))\n",
      "  File \"/usr/local/lib/python3.7/site-packages/xgboost-0.71-py3.7.egg/xgboost/core.py\", line 267, in __init__\n",
      "    ctypes.byref(self.handle)))\n",
      "  File \"/usr/local/lib/python3.7/site-packages/xgboost-0.71-py3.7.egg/xgboost/core.py\", line 131, in _check_call\n",
      "    raise XGBoostError(_LIB.XGBGetLastError())\u001b[0m\n",
      "\u001b[34mxgboost.core.XGBoostError: b\"[14:19:58] src/data/csv_parser.h:124: Deduced delimiter ',' is not found in the line. Expected ',' as the delimiter to separate fields.\\n\\nStack trace returned 7 entries:\\n[bt] (0) /usr/local/lib/python3.7/site-packages/xgboost-0.71-py3.7.egg/xgboost/libxgboost.so(dmlc::StackTrace[abi:cxx11]()+0x3b) [0x7f6018326bbb]\\n[bt] (1) /usr/local/lib/python3.7/site-packages/xgboost-0.71-py3.7.egg/xgboost/libxgboost.so(dmlc::LogMessageFatal::~LogMessageFatal()+0x29) [0x7f60183272f9]\\n[bt] (2) /usr/local/lib/python3.7/site-packages/xgboost-0.71-py3.7.egg/xgboost/libxgboost.so(dmlc::data::CSVParser<unsigned int, float>::ParseBlock(char const*, char const*, dmlc::data::RowBlockContainer<unsigned int, float>*)+0x3f9) [0x7f60184e4e99]\\n[bt] (3) /usr/local/lib/python3.7/site-packages/xgboost-0.71-py3.7.egg/xgboost/libxgboost.so(+0x21d823) [0x7f60184ca823]\\n[bt] (4) /opt/amazon/lib/libgomp.so.1(+0x1963f) [0x7f6017e8763f]\\n[bt] (5) /lib64/libpthread.so.0(+0x744b) [0x7f6059f2944b]\\n[bt] (6) /lib64/libc.so.6(clone+0x3f) [0x7f6058f9652f]\\n\\n\"\u001b[0m\n",
      "\u001b[34mDuring handling of the above exception, another exception occurred:\u001b[0m\n",
      "\u001b[34mTraceback (most recent call last):\n",
      "  File \"/opt/amazon/lib/python3.7/site-packages/sage_xgboost/train.py\", line 41, in main\n",
      "    standalone_train(resource_config, train_config, data_config)\n",
      "  File \"/opt/amazon/lib/python3.7/site-packages/sage_xgboost/train_methods.py\", line 17, in standalone_train\n",
      "    train_job(resource_config, train_config, data_config)\n",
      "  File \"/opt/amazon/lib/python3.7/site-packages/sage_xgboost/train_helper.py\", line 338, in train_job\n",
      "    dtrain = get_dmatrix(train_path, \"train, \", file_type, exceed_memory, csv_weights=csv_weights)\n",
      "  File \"/opt/amazon/lib/python3.7/site-packages/sage_xgboost/train_helper.py\", line 191, in get_dmatrix\n",
      "    dmatrix = get_csv_dmatrix(files_path, csv_weights)\n",
      "  File \"/opt/amazon/lib/python3.7/site-packages/sage_xgboost/train_helper.py\", line 145, in get_csv_dmatrix\n",
      "    raise CustomerError(\"Failed to load csv data with exception:\\n{}\".format(e))\u001b[0m\n",
      "\u001b[34msg_algorithms_sdk.base.exceptions.CustomerError: Failed to load csv data with exception:\u001b[0m\n",
      "\u001b[34mb\"[14:19:58] src/data/csv_parser.h:124: Deduced delimiter ',' is not found in the line. Expected ',' as the delimiter to separate fields.\\n\\nStack trace returned 7 entries:\\n[bt] (0) /usr/local/lib/python3.7/site-packages/xgboost-0.71-py3.7.egg/xgboost/libxgboost.so(dmlc::StackTrace[abi:cxx11]()+0x3b) [0x7f6018326bbb]\\n[bt] (1) /usr/local/lib/python3.7/site-packages/xgboost-0.71-py3.7.egg/xgboost/libxgboost.so(dmlc::LogMessageFatal::~LogMessageFatal()+0x29) [0x7f60183272f9]\\n[bt] (2) /usr/local/lib/python3.7/site-packages/xgboost-0.71-py3.7.egg/xgboost/libxgboost.so(dmlc::data::CSVParser<unsigned int, float>::ParseBlock(char const*, char const*, dmlc::data::RowBlockContainer<unsigned int, float>*)+0x3f9) [0x7f60184e4e99]\\n[bt] (3) /usr/local/lib/python3.7/site-packages/xgboost-0.71-py3.7.egg/xgboost/libxgboost.so(+0x21d823) [0x7f60184ca823]\\n[bt] (4) /opt/amazon/lib/libgomp.so.1(+0x1963f) [0x7f6017e8763f]\\n[bt] (5) /lib64/libpthread.so.0(+0x744b) [0x7f6059f2944b]\\n[bt] (6) /lib64/libc.so.6(clone+0x3f) [0x7f6058f9652f]\\n\\n\"\u001b[0m\n",
      "\u001b[34m[2023-06-22:14:19:58:INFO] Path /opt/ml/input/data/validation does not exist!\u001b[0m\n",
      "\n",
      "2023-06-22 14:20:12 Uploading - Uploading generated training model\n",
      "2023-06-22 14:20:12 Failed - Training job failed\n"
     ]
    },
    {
     "ename": "UnexpectedStatusException",
     "evalue": "Error for Training job xgboost-2023-06-22-14-16-53-169: Failed. Reason: ClientError: Failed to load csv data with exception:\nb\"[14:19:58] src/data/csv_parser.h:124: Deduced delimiter ',' is not found in the line. Expected ',' as the delimiter to separate fields.\\n\\nStack trace returned 7 entries:\\n[bt] (0) /usr/local/lib/python3.7/site-packages/xgboost-0.71-py3.7.egg/xgboost/libxgboost.so(dmlc::StackTrace[abi:cxx11]()+0x3b) [0x7f6018326bbb]\\n[bt] (1) /usr/local/lib/python3.7/site-packages/xgboost-0.71-py3.7.egg/xgboost/libxgboost.so(dmlc::LogMessageFatal::~LogMessageFatal()+0x29) [0x7f60183272f9]\\n[bt] (2) /usr/local/lib/python3.7/site-packages/xgboost-0.71-py3.7.egg/xgboost/libxgboost.so(dmlc::data::CSVParser<unsigned int, float>::ParseBlock(char const*, char const*, dmlc::data::RowBlockContainer<unsigned int, float>*)+0x3f9) [0x7f60184e4e99]\\n[bt] (3) /usr/local/lib/python3.7/site-packages/xgboost-0.71-py3.7.egg/xgboost/libxgboost.so(+0x21d823) [0x7f60184ca823]\\n[bt] (4) /opt/amazon/lib/libgomp.so.1(+0x1963f) [0x7f6017e8763f]\\n[bt] (5) /lib64/libpthread.so.0(+0x744b) [0x7f60, e",
     "output_type": "error",
     "traceback": [
      "\u001b[0;31m---------------------------------------------------------------------------\u001b[0m",
      "\u001b[0;31mUnexpectedStatusException\u001b[0m                 Traceback (most recent call last)",
      "Cell \u001b[0;32mIn[26], line 1\u001b[0m\n\u001b[0;32m----> 1\u001b[0m \u001b[43mxgb\u001b[49m\u001b[38;5;241;43m.\u001b[39;49m\u001b[43mfit\u001b[49m\u001b[43m(\u001b[49m\u001b[43m{\u001b[49m\u001b[38;5;124;43m'\u001b[39;49m\u001b[38;5;124;43mtrain\u001b[39;49m\u001b[38;5;124;43m'\u001b[39;49m\u001b[43m:\u001b[49m\u001b[43m \u001b[49m\u001b[43ms3_input_train\u001b[49m\u001b[43m}\u001b[49m\u001b[43m)\u001b[49m\n",
      "File \u001b[0;32m~/anaconda3/envs/python3/lib/python3.10/site-packages/sagemaker/workflow/pipeline_context.py:284\u001b[0m, in \u001b[0;36mrunnable_by_pipeline.<locals>.wrapper\u001b[0;34m(*args, **kwargs)\u001b[0m\n\u001b[1;32m    280\u001b[0m         \u001b[38;5;28;01mreturn\u001b[39;00m context\n\u001b[1;32m    282\u001b[0m     \u001b[38;5;28;01mreturn\u001b[39;00m _StepArguments(retrieve_caller_name(self_instance), run_func, \u001b[38;5;241m*\u001b[39margs, \u001b[38;5;241m*\u001b[39m\u001b[38;5;241m*\u001b[39mkwargs)\n\u001b[0;32m--> 284\u001b[0m \u001b[38;5;28;01mreturn\u001b[39;00m \u001b[43mrun_func\u001b[49m\u001b[43m(\u001b[49m\u001b[38;5;241;43m*\u001b[39;49m\u001b[43margs\u001b[49m\u001b[43m,\u001b[49m\u001b[43m \u001b[49m\u001b[38;5;241;43m*\u001b[39;49m\u001b[38;5;241;43m*\u001b[39;49m\u001b[43mkwargs\u001b[49m\u001b[43m)\u001b[49m\n",
      "File \u001b[0;32m~/anaconda3/envs/python3/lib/python3.10/site-packages/sagemaker/estimator.py:1198\u001b[0m, in \u001b[0;36mEstimatorBase.fit\u001b[0;34m(self, inputs, wait, logs, job_name, experiment_config)\u001b[0m\n\u001b[1;32m   1196\u001b[0m \u001b[38;5;28mself\u001b[39m\u001b[38;5;241m.\u001b[39mjobs\u001b[38;5;241m.\u001b[39mappend(\u001b[38;5;28mself\u001b[39m\u001b[38;5;241m.\u001b[39mlatest_training_job)\n\u001b[1;32m   1197\u001b[0m \u001b[38;5;28;01mif\u001b[39;00m wait:\n\u001b[0;32m-> 1198\u001b[0m     \u001b[38;5;28;43mself\u001b[39;49m\u001b[38;5;241;43m.\u001b[39;49m\u001b[43mlatest_training_job\u001b[49m\u001b[38;5;241;43m.\u001b[39;49m\u001b[43mwait\u001b[49m\u001b[43m(\u001b[49m\u001b[43mlogs\u001b[49m\u001b[38;5;241;43m=\u001b[39;49m\u001b[43mlogs\u001b[49m\u001b[43m)\u001b[49m\n",
      "File \u001b[0;32m~/anaconda3/envs/python3/lib/python3.10/site-packages/sagemaker/estimator.py:2344\u001b[0m, in \u001b[0;36m_TrainingJob.wait\u001b[0;34m(self, logs)\u001b[0m\n\u001b[1;32m   2342\u001b[0m \u001b[38;5;66;03m# If logs are requested, call logs_for_jobs.\u001b[39;00m\n\u001b[1;32m   2343\u001b[0m \u001b[38;5;28;01mif\u001b[39;00m logs \u001b[38;5;241m!=\u001b[39m \u001b[38;5;124m\"\u001b[39m\u001b[38;5;124mNone\u001b[39m\u001b[38;5;124m\"\u001b[39m:\n\u001b[0;32m-> 2344\u001b[0m     \u001b[38;5;28;43mself\u001b[39;49m\u001b[38;5;241;43m.\u001b[39;49m\u001b[43msagemaker_session\u001b[49m\u001b[38;5;241;43m.\u001b[39;49m\u001b[43mlogs_for_job\u001b[49m\u001b[43m(\u001b[49m\u001b[38;5;28;43mself\u001b[39;49m\u001b[38;5;241;43m.\u001b[39;49m\u001b[43mjob_name\u001b[49m\u001b[43m,\u001b[49m\u001b[43m \u001b[49m\u001b[43mwait\u001b[49m\u001b[38;5;241;43m=\u001b[39;49m\u001b[38;5;28;43;01mTrue\u001b[39;49;00m\u001b[43m,\u001b[49m\u001b[43m \u001b[49m\u001b[43mlog_type\u001b[49m\u001b[38;5;241;43m=\u001b[39;49m\u001b[43mlogs\u001b[49m\u001b[43m)\u001b[49m\n\u001b[1;32m   2345\u001b[0m \u001b[38;5;28;01melse\u001b[39;00m:\n\u001b[1;32m   2346\u001b[0m     \u001b[38;5;28mself\u001b[39m\u001b[38;5;241m.\u001b[39msagemaker_session\u001b[38;5;241m.\u001b[39mwait_for_job(\u001b[38;5;28mself\u001b[39m\u001b[38;5;241m.\u001b[39mjob_name)\n",
      "File \u001b[0;32m~/anaconda3/envs/python3/lib/python3.10/site-packages/sagemaker/session.py:4630\u001b[0m, in \u001b[0;36mSession.logs_for_job\u001b[0;34m(self, job_name, wait, poll, log_type, timeout)\u001b[0m\n\u001b[1;32m   4609\u001b[0m \u001b[38;5;28;01mdef\u001b[39;00m \u001b[38;5;21mlogs_for_job\u001b[39m(\u001b[38;5;28mself\u001b[39m, job_name, wait\u001b[38;5;241m=\u001b[39m\u001b[38;5;28;01mFalse\u001b[39;00m, poll\u001b[38;5;241m=\u001b[39m\u001b[38;5;241m10\u001b[39m, log_type\u001b[38;5;241m=\u001b[39m\u001b[38;5;124m\"\u001b[39m\u001b[38;5;124mAll\u001b[39m\u001b[38;5;124m\"\u001b[39m, timeout\u001b[38;5;241m=\u001b[39m\u001b[38;5;28;01mNone\u001b[39;00m):\n\u001b[1;32m   4610\u001b[0m \u001b[38;5;250m    \u001b[39m\u001b[38;5;124;03m\"\"\"Display logs for a given training job, optionally tailing them until job is complete.\u001b[39;00m\n\u001b[1;32m   4611\u001b[0m \n\u001b[1;32m   4612\u001b[0m \u001b[38;5;124;03m    If the output is a tty or a Jupyter cell, it will be color-coded\u001b[39;00m\n\u001b[0;32m   (...)\u001b[0m\n\u001b[1;32m   4628\u001b[0m \u001b[38;5;124;03m        exceptions.UnexpectedStatusException: If waiting and the training job fails.\u001b[39;00m\n\u001b[1;32m   4629\u001b[0m \u001b[38;5;124;03m    \"\"\"\u001b[39;00m\n\u001b[0;32m-> 4630\u001b[0m     \u001b[43m_logs_for_job\u001b[49m\u001b[43m(\u001b[49m\u001b[38;5;28;43mself\u001b[39;49m\u001b[38;5;241;43m.\u001b[39;49m\u001b[43mboto_session\u001b[49m\u001b[43m,\u001b[49m\u001b[43m \u001b[49m\u001b[43mjob_name\u001b[49m\u001b[43m,\u001b[49m\u001b[43m \u001b[49m\u001b[43mwait\u001b[49m\u001b[43m,\u001b[49m\u001b[43m \u001b[49m\u001b[43mpoll\u001b[49m\u001b[43m,\u001b[49m\u001b[43m \u001b[49m\u001b[43mlog_type\u001b[49m\u001b[43m,\u001b[49m\u001b[43m \u001b[49m\u001b[43mtimeout\u001b[49m\u001b[43m)\u001b[49m\n",
      "File \u001b[0;32m~/anaconda3/envs/python3/lib/python3.10/site-packages/sagemaker/session.py:6492\u001b[0m, in \u001b[0;36m_logs_for_job\u001b[0;34m(boto_session, job_name, wait, poll, log_type, timeout)\u001b[0m\n\u001b[1;32m   6489\u001b[0m             last_profiler_rule_statuses \u001b[38;5;241m=\u001b[39m profiler_rule_statuses\n\u001b[1;32m   6491\u001b[0m \u001b[38;5;28;01mif\u001b[39;00m wait:\n\u001b[0;32m-> 6492\u001b[0m     \u001b[43m_check_job_status\u001b[49m\u001b[43m(\u001b[49m\u001b[43mjob_name\u001b[49m\u001b[43m,\u001b[49m\u001b[43m \u001b[49m\u001b[43mdescription\u001b[49m\u001b[43m,\u001b[49m\u001b[43m \u001b[49m\u001b[38;5;124;43m\"\u001b[39;49m\u001b[38;5;124;43mTrainingJobStatus\u001b[39;49m\u001b[38;5;124;43m\"\u001b[39;49m\u001b[43m)\u001b[49m\n\u001b[1;32m   6493\u001b[0m     \u001b[38;5;28;01mif\u001b[39;00m dot:\n\u001b[1;32m   6494\u001b[0m         \u001b[38;5;28mprint\u001b[39m()\n",
      "File \u001b[0;32m~/anaconda3/envs/python3/lib/python3.10/site-packages/sagemaker/session.py:6545\u001b[0m, in \u001b[0;36m_check_job_status\u001b[0;34m(job, desc, status_key_name)\u001b[0m\n\u001b[1;32m   6539\u001b[0m \u001b[38;5;28;01mif\u001b[39;00m \u001b[38;5;124m\"\u001b[39m\u001b[38;5;124mCapacityError\u001b[39m\u001b[38;5;124m\"\u001b[39m \u001b[38;5;129;01min\u001b[39;00m \u001b[38;5;28mstr\u001b[39m(reason):\n\u001b[1;32m   6540\u001b[0m     \u001b[38;5;28;01mraise\u001b[39;00m exceptions\u001b[38;5;241m.\u001b[39mCapacityError(\n\u001b[1;32m   6541\u001b[0m         message\u001b[38;5;241m=\u001b[39mmessage,\n\u001b[1;32m   6542\u001b[0m         allowed_statuses\u001b[38;5;241m=\u001b[39m[\u001b[38;5;124m\"\u001b[39m\u001b[38;5;124mCompleted\u001b[39m\u001b[38;5;124m\"\u001b[39m, \u001b[38;5;124m\"\u001b[39m\u001b[38;5;124mStopped\u001b[39m\u001b[38;5;124m\"\u001b[39m],\n\u001b[1;32m   6543\u001b[0m         actual_status\u001b[38;5;241m=\u001b[39mstatus,\n\u001b[1;32m   6544\u001b[0m     )\n\u001b[0;32m-> 6545\u001b[0m \u001b[38;5;28;01mraise\u001b[39;00m exceptions\u001b[38;5;241m.\u001b[39mUnexpectedStatusException(\n\u001b[1;32m   6546\u001b[0m     message\u001b[38;5;241m=\u001b[39mmessage,\n\u001b[1;32m   6547\u001b[0m     allowed_statuses\u001b[38;5;241m=\u001b[39m[\u001b[38;5;124m\"\u001b[39m\u001b[38;5;124mCompleted\u001b[39m\u001b[38;5;124m\"\u001b[39m, \u001b[38;5;124m\"\u001b[39m\u001b[38;5;124mStopped\u001b[39m\u001b[38;5;124m\"\u001b[39m],\n\u001b[1;32m   6548\u001b[0m     actual_status\u001b[38;5;241m=\u001b[39mstatus,\n\u001b[1;32m   6549\u001b[0m )\n",
      "\u001b[0;31mUnexpectedStatusException\u001b[0m: Error for Training job xgboost-2023-06-22-14-16-53-169: Failed. Reason: ClientError: Failed to load csv data with exception:\nb\"[14:19:58] src/data/csv_parser.h:124: Deduced delimiter ',' is not found in the line. Expected ',' as the delimiter to separate fields.\\n\\nStack trace returned 7 entries:\\n[bt] (0) /usr/local/lib/python3.7/site-packages/xgboost-0.71-py3.7.egg/xgboost/libxgboost.so(dmlc::StackTrace[abi:cxx11]()+0x3b) [0x7f6018326bbb]\\n[bt] (1) /usr/local/lib/python3.7/site-packages/xgboost-0.71-py3.7.egg/xgboost/libxgboost.so(dmlc::LogMessageFatal::~LogMessageFatal()+0x29) [0x7f60183272f9]\\n[bt] (2) /usr/local/lib/python3.7/site-packages/xgboost-0.71-py3.7.egg/xgboost/libxgboost.so(dmlc::data::CSVParser<unsigned int, float>::ParseBlock(char const*, char const*, dmlc::data::RowBlockContainer<unsigned int, float>*)+0x3f9) [0x7f60184e4e99]\\n[bt] (3) /usr/local/lib/python3.7/site-packages/xgboost-0.71-py3.7.egg/xgboost/libxgboost.so(+0x21d823) [0x7f60184ca823]\\n[bt] (4) /opt/amazon/lib/libgomp.so.1(+0x1963f) [0x7f6017e8763f]\\n[bt] (5) /lib64/libpthread.so.0(+0x744b) [0x7f60, e"
     ]
    }
   ],
   "source": [
    "xgb.fit({'train': s3_input_train})"
   ]
  },
  {
   "cell_type": "code",
   "execution_count": null,
   "id": "73b5b0fd",
   "metadata": {},
   "outputs": [],
   "source": []
  }
 ],
 "metadata": {
  "kernelspec": {
   "display_name": "conda_python3",
   "language": "python",
   "name": "conda_python3"
  },
  "language_info": {
   "codemirror_mode": {
    "name": "ipython",
    "version": 3
   },
   "file_extension": ".py",
   "mimetype": "text/x-python",
   "name": "python",
   "nbconvert_exporter": "python",
   "pygments_lexer": "ipython3",
   "version": "3.10.10"
  }
 },
 "nbformat": 4,
 "nbformat_minor": 5
}
